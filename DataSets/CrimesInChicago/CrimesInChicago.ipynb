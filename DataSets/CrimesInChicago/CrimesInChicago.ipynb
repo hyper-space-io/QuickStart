{
  "cells": [
    {
      "cell_type": "markdown",
      "source": [
        "![63f78014766fd30436c18a79_Hyperspace - navbar logo.png](data:image/png;base64,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)"
      ],
      "metadata": {
        "id": "X3eWQaOFp2lG"
      },
      "id": "X3eWQaOFp2lG"
    },
    {
      "cell_type": "markdown",
      "metadata": {
        "id": "1Kone1nET7HS"
      },
      "source": [
        "# Classic Search With Hyperspace\n",
        "This notebook demonstrates the use of Hyperspace engine for classic (keyword and value matching) search.\n",
        "\n",
        "## The Dataset - Crimes In Chicago Dataset\n",
        "From Kaggle:\n",
        "\"This dataset reflects reported incidents of crime (with the exception of murders where data exists for each victim) that occurred in the City of Chicago from 2001 to present, minus the most recent seven days. Data is extracted from the Chicago Police Department's CLEAR (Citizen Law Enforcement Analysis and Reporting) system. In order to protect the privacy of crime victims, addresses are shown at the block level only and specific locations are not identified. This data includes unverified reports supplied to the Police Department. The preliminary crime classifications may be changed at a later date based upon additional investigation and there is always the possibility of mechanical or human error. Therefore, the Chicago Police Department does not guarantee (either expressed or implied) the accuracy, completeness, timeliness, or correct sequencing of the information and the information should not be used for comparison purposes over time.\"\n",
        "\n",
        "The [dataset](https://www.kaggle.com/datasets/chicago/chicago-crime) can be downloaded from this [link](https://github.com/hyper-space-io/QuickStart/blob/main/DataSets/CrimesInChicago/100k-crimes-dataset-processed_data.zip).\n",
        "\n",
        "## The dataset fields\n",
        "1. **Case Number {'type': 'keyword'}** - The Chicago Police Department RD Number (Records Division Number), which is unique to the incident.\n",
        "2. **Date {'type': 'date', 'format': 'MM/dd/yyyy hh:mm:ss a'}** - Date when the incident occurred. this is sometimes a best estimate.\n",
        "3. **Block {'type 'keyword'}** -The partially redacted address where the incident occurred, placing it on the same block as the actual address.\n",
        "4. **IUCR {'type 'keyword'}** - The Illinois Unifrom Crime Reporting code. This is directly linked to the Primary Type and Description. See the list of IUCR codes at https://data.cityofchicago.org/d/c7ck-438e.\n",
        "5. **Primary Type {'type 'keyword'}** - The primary description of the IUCR code.\n",
        "6. **Description {'type 'keyword'}** - The secondary description of the IUCR code, a subcategory of the primary description.\n",
        "7. **Location Description {'type 'keyword'}** - Description of the location where the incident occurred.\n",
        "8. **Arrest {'type 'boolean'}** - Indicates whether an arrest was made.\n",
        "9. **Domestic {'type 'boolean'}** - Indicates whether the incident was domestic-related as defined by the Illinois Domestic Violence Act.\n",
        "10. **Beat {'type 'integer'}** - Indicates the beat where the incident occurred. A beat is the smallest police geographic area – each beat has a dedicated police beat car. Three to five beats make up a police sector, and three sectors make up a police district. The Chicago Police Department has 22 police districts. See the beats at https://data.cityofchicago.org/d/aerh-rz74.\n",
        "11. **District {'type 'integer'}** - Indicates the police district where the incident occurred. See the districts at https://data.cityofchicago.org/d/fthy-xz3r.\n",
        "12. **Ward {'type 'integer'}** - The ward (City Council district) where the incident occurred. See the wards at https://data.cityofchicago.org/d/sp34-6z76.\n",
        "13. **Community Area {'type 'integer'}** - Indicates the community area where the incident occurred. Chicago has 77 community areas. See the community areas at https://data.cityofchicago.org/d/cauq-8yn6.\n",
        "14. **FBI Code {'type 'keyword'}** - Indicates the crime classification as outlined in the FBI's National Incident-Based Reporting System (NIBRS). See the Chicago Police Department listing of these classifications at http://gis.chicagopolice.org/clearmap_crime_sums/crime_types.html.\n",
        "15. **X Coordinate {'type 'integer'}** - The x coordinate of the location where the incident occurred in State Plane Illinois East NAD 1983 projection. This location is shifted from the actual location for partial redaction but falls on the same block.\n",
        "16. **Y Coordinate {'type 'integer'}** - The y coordinate of the location where the incident occurred in State Plane Illinois East NAD 1983 projection. This location is shifted from the actual location for partial redaction but falls on the same block.\n",
        "17. **Year {'type 'integer'}** - Year the incident occurred.\n",
        "18. **Updated On {'type 'date', 'format 'MM/dd/yyyy hh:mm:ss a'}** - Date and time the record was last updated.\n",
        "19. **Latitude {'type 'float'}** - The latitude of the location where the incident occurred. This location is shifted from the actual location for partial redaction but falls on the same block.\n",
        "20. **Longitude {'type 'float'}** - The longitude of the location where the incident occurred. This location is shifted from the actual location for partial redaction but falls on the same block.\n",
        "21. **Location {'type 'geo_point', 'struct_type 'list'}** - The location where the incident occurred in a format that allows for creation of maps and other geographic operations on this data portal. This location is shifted from the actual location for partial redaction but falls on the same block."
      ],
      "id": "1Kone1nET7HS"
    },
    {
      "cell_type": "markdown",
      "metadata": {
        "id": "LEChRdiP1ygv"
      },
      "source": [
        "We mount a cloud folder which hosts the client files and install the client"
      ],
      "id": "LEChRdiP1ygv"
    },
    {
      "cell_type": "markdown",
      "source": [
        "\n",
        "# Setting up the Hyperspace Environment\n",
        "Setting the environment and running the query includes the following steps\n",
        "1. Download and install the client API\n",
        "2. Connect to a server\n",
        "3. Create data schema file\n",
        "4. Create collection\n",
        "5. Ingest data\n",
        "6. Run query"
      ],
      "metadata": {
        "id": "QHPcXuhkq4uN"
      },
      "id": "QHPcXuhkq4uN"
    },
    {
      "cell_type": "markdown",
      "metadata": {
        "id": "SZwFmp6tVLZ_"
      },
      "source": [
        "## 1. Install the Hyperspace client API\n",
        "Hyperspace API can be installed directly from git, using the following command:"
      ],
      "id": "SZwFmp6tVLZ_"
    },
    {
      "cell_type": "code",
      "execution_count": 1,
      "metadata": {
        "colab": {
          "base_uri": "https://localhost:8080/"
        },
        "id": "l1DTYoFb1vnF",
        "outputId": "a2b20db6-1fda-47c1-9423-4ed3f4683bda"
      },
      "outputs": [
        {
          "output_type": "stream",
          "name": "stdout",
          "text": [
            "Collecting git+https://github.com/hyper-space-io/hyperspace-py\n",
            "  Cloning https://github.com/hyper-space-io/hyperspace-py to /tmp/pip-req-build-axx4to3s\n",
            "  Running command git clone --filter=blob:none --quiet https://github.com/hyper-space-io/hyperspace-py /tmp/pip-req-build-axx4to3s\n",
            "  Resolved https://github.com/hyper-space-io/hyperspace-py to commit fa0e83afe20c732fc8edf77c6b6201b2110a717b\n",
            "  Preparing metadata (setup.py) ... \u001b[?25l\u001b[?25hdone\n",
            "Requirement already satisfied: urllib3>=1.15 in /usr/local/lib/python3.10/dist-packages (from hyperspace==1.0.0) (2.0.4)\n",
            "Requirement already satisfied: six>=1.10 in /usr/local/lib/python3.10/dist-packages (from hyperspace==1.0.0) (1.16.0)\n",
            "Requirement already satisfied: certifi in /usr/local/lib/python3.10/dist-packages (from hyperspace==1.0.0) (2023.7.22)\n",
            "Requirement already satisfied: python-dateutil in /usr/local/lib/python3.10/dist-packages (from hyperspace==1.0.0) (2.8.2)\n",
            "Building wheels for collected packages: hyperspace\n",
            "  Building wheel for hyperspace (setup.py) ... \u001b[?25l\u001b[?25hdone\n",
            "  Created wheel for hyperspace: filename=hyperspace-1.0.0-py3-none-any.whl size=36135 sha256=f8e8d28b7b8dca0cbf597df022599d401ba09c9e67bca323d37eba0db55cd5cf\n",
            "  Stored in directory: /tmp/pip-ephem-wheel-cache-5vbju5uh/wheels/c4/96/59/f4b91d653fdbfc819e48a7dacbea1c9f3de59a1bc113aa840d\n",
            "Successfully built hyperspace\n",
            "Installing collected packages: hyperspace\n",
            "Successfully installed hyperspace-1.0.0\n"
          ]
        }
      ],
      "source": [
        "pip install git+https://github.com/hyper-space-io/hyperspace-py"
      ],
      "id": "l1DTYoFb1vnF"
    },
    {
      "cell_type": "markdown",
      "metadata": {
        "id": "TCZSwM6DVeDm"
      },
      "source": [
        "## 2. Connect to a server\n",
        "\n",
        "Once the Hyperspace API is installed, the database can be accessed by creating a local instance of the Hyperspace client. This step requires host address, username and password."
      ],
      "id": "TCZSwM6DVeDm"
    },
    {
      "cell_type": "code",
      "execution_count": 2,
      "metadata": {
        "id": "8NVXuwyozUi7",
        "outputId": "61aa8ccc-d43a-4d08-ce06-0a1f730e6b51",
        "colab": {
          "base_uri": "https://localhost:8080/"
        }
      },
      "outputs": [
        {
          "name": "stdout",
          "output_type": "stream",
          "text": [
            "··········\n"
          ]
        }
      ],
      "source": [
        "import hyperspace\n",
        "from getpass import getpass\n",
        "\n",
        "hyperspace_client = hyperspace.HyperspaceClientApi(host='https://search-master-demo.development.hyper-space.xyz',\n",
        "                                                   username=username, password=getpass())"
      ],
      "id": "8NVXuwyozUi7"
    },
    {
      "cell_type": "markdown",
      "source": [
        "We check the status before proceeding"
      ],
      "metadata": {
        "id": "1rxCqQ58kuzL"
      },
      "id": "1rxCqQ58kuzL"
    },
    {
      "cell_type": "code",
      "execution_count": null,
      "metadata": {
        "id": "cH_lWsLLza0n"
      },
      "outputs": [],
      "source": [
        "collections_info = hyperspace_client.collections_info()\n",
        "display(collections_info)"
      ],
      "id": "cH_lWsLLza0n"
    },
    {
      "cell_type": "markdown",
      "metadata": {
        "id": "HXmdh3YGVfQV"
      },
      "source": [
        "## 3. Create a Data Schema File\n",
        "\n",
        "Similarly to other search databases, Hyper-Space database requires a configuration file that outlines the data schema. Here, we create a config file that corresponds to the fields of the given dataset.\n",
        "\n",
        "For vector fields, we also provide the index type to be used, and the metric. . Current options for index include \"**brute_force**\", \"**hnsw**\", \"**ivf**\", and \"**bin_ivf**\" for binary vectors, and \"**IP**\" (inner product) as a metric for floating point vectors and \"**Hamming**\" ([hamming distance](https://en.wikipedia.org/wiki/Hamming_distance)) for binary vectors.\n",
        "Note that the key 'low_cardinality' enables faster search for low cardinality fields."
      ],
      "id": "HXmdh3YGVfQV"
    },
    {
      "cell_type": "code",
      "source": [
        "import json\n",
        "\n",
        "config = {\n",
        "  \"configuration\": {\n",
        "    \"ID\": {\n",
        "      \"type\": \"integer\"\n",
        "    },\n",
        "    \"Case Number\": {\n",
        "      \"type\": \"keyword\"\n",
        "    },\n",
        "    \"Date\": {\n",
        "      \"type\": \"date\",\n",
        "      \"format\": \"MM/dd/yyyy hh:mm:ss a\"\n",
        "    },\n",
        "    \"Block\": {\n",
        "      \"type\": \"keyword\"\n",
        "    },\n",
        "    \"IUCR\": {\n",
        "      \"type\": \"keyword\"\n",
        "    },\n",
        "    \"Primary Type\": {\n",
        "      \"type\": \"keyword\"\n",
        "    },\n",
        "    \"Description\": {\n",
        "      \"type\": \"keyword\"\n",
        "    },\n",
        "    \"Location Description\": {\n",
        "      \"type\": \"keyword\"\n",
        "    },\n",
        "    \"Arrest\": {\n",
        "      \"type\": \"boolean\"\n",
        "    },\n",
        "    \"Domestic\": {\n",
        "      \"type\": \"boolean\"\n",
        "    },\n",
        "    \"Beat\": {\n",
        "      \"type\": \"integer\"\n",
        "    },\n",
        "    \"District\": {\n",
        "      \"type\": \"integer\"\n",
        "    },\n",
        "    \"Ward\": {\n",
        "      \"type\": \"integer\"\n",
        "    },\n",
        "    \"Community Area\": {\n",
        "      \"type\": \"integer\"\n",
        "    },\n",
        "    \"FBI Code\": {\n",
        "      \"type\": \"keyword\"\n",
        "    },\n",
        "    \"X Coordinate\": {\n",
        "      \"type\": \"integer\"\n",
        "    },\n",
        "    \"Y Coordinate\": {\n",
        "      \"type\": \"integer\"\n",
        "    },\n",
        "    \"Year\": {\n",
        "      \"type\": \"integer\"\n",
        "    },\n",
        "    \"Updated On\": {\n",
        "      \"type\": \"date\",\n",
        "      \"format\": \"MM/dd/yyyy hh:mm:ss a\"\n",
        "    },\n",
        "    \"Latitude\": {\n",
        "      \"type\": \"float\"\n",
        "    },\n",
        "    \"Longitude\": {\n",
        "      \"type\": \"float\"\n",
        "    },\n",
        "    \"Location\": {\n",
        "      \"type\": \"geo_point\",\n",
        "      \"struct_type\": \"list\"\n",
        "    }\n",
        "  }\n",
        "}\n",
        "\n",
        "with open('crime-config.json', 'w') as f:\n",
        "    f.write(json.dumps(config, indent=2))\n",
        "\n"
      ],
      "metadata": {
        "id": "wEPB1q3mno6H"
      },
      "id": "wEPB1q3mno6H",
      "execution_count": 4,
      "outputs": []
    },
    {
      "cell_type": "markdown",
      "metadata": {
        "id": "7RTDkUsr3ead"
      },
      "source": [
        "## 4. Create Collection\n",
        "The Hyerspace engine stroes data in Collections, where each collecction commonly hosts data of similar context, etc. Each search is then perfomed within a collection. We create a collection using the command \"**create_collection**(schema_filename, collection_name)\"."
      ],
      "id": "7RTDkUsr3ead"
    },
    {
      "cell_type": "code",
      "execution_count": null,
      "metadata": {
        "id": "aOj7VVTtlM_o"
      },
      "outputs": [],
      "source": [
        "collection_name = 'CrimesInChicago'\n",
        "\n",
        "try:\n",
        "    hyperspace_client.delete_collection(collection_name)\n",
        "except:\n",
        "    pass\n",
        "hyperspace_client.create_collection('crime-config.json', collection_name)\n",
        "hyperspace_client.collections_info()"
      ],
      "id": "aOj7VVTtlM_o"
    },
    {
      "cell_type": "markdown",
      "metadata": {
        "id": "lUpgHD2VWFXd"
      },
      "source": [
        "# 5. Ingest data\n",
        "\n",
        "In the next step we ingest the dataset in batches of 250 documents. This number can be controlled by user, and in particular, can be increased in order improve ingestion time. We add batches of data using the command **add_batch**(batch, collection_name)."
      ],
      "id": "lUpgHD2VWFXd"
    },
    {
      "cell_type": "code",
      "source": [
        "metadata = open('100k-crimes-dataset-processed_data.json')\n",
        "\n",
        "BATCH_SIZE = 500\n",
        "\n",
        "batch = []\n",
        "for i, metadata_row in enumerate(metadata):\n",
        "    row = {key: value for key, value in json.loads(metadata_row).items() if key in config[\"configuration\"].keys()}\n",
        "    batch.append(hyperspace.Document(str(i), row))\n",
        "\n",
        "    if i % BATCH_SIZE == 0:\n",
        "        response = hyperspace_client.add_batch(batch, collection_name)\n",
        "        batch.clear()\n",
        "        print(i, response)\n",
        "if batch:\n",
        "  response = hyperspace_client.add_batch(batch, collection_name)\n",
        "  batch.clear()\n",
        "  print(i, response)\n",
        "hyperspace_client.commit(collection_name)\n"
      ],
      "metadata": {
        "id": "qPTZ0a1-mPj2",
        "outputId": "214cbaad-95ba-42d4-db20-49959adbcf48",
        "colab": {
          "base_uri": "https://localhost:8080/"
        }
      },
      "id": "qPTZ0a1-mPj2",
      "execution_count": 20,
      "outputs": [
        {
          "output_type": "stream",
          "name": "stdout",
          "text": [
            "0 {'code': 200, 'message': 'Batch successfully added', 'status': 'OK'}\n",
            "500 {'code': 200, 'message': 'Batch successfully added', 'status': 'OK'}\n",
            "1000 {'code': 200, 'message': 'Batch successfully added', 'status': 'OK'}\n",
            "1500 {'code': 200, 'message': 'Batch successfully added', 'status': 'OK'}\n",
            "2000 {'code': 200, 'message': 'Batch successfully added', 'status': 'OK'}\n",
            "2500 {'code': 200, 'message': 'Batch successfully added', 'status': 'OK'}\n",
            "3000 {'code': 200, 'message': 'Batch successfully added', 'status': 'OK'}\n",
            "3500 {'code': 200, 'message': 'Batch successfully added', 'status': 'OK'}\n",
            "4000 {'code': 200, 'message': 'Batch successfully added', 'status': 'OK'}\n",
            "4500 {'code': 200, 'message': 'Batch successfully added', 'status': 'OK'}\n",
            "5000 {'code': 200, 'message': 'Batch successfully added', 'status': 'OK'}\n",
            "5500 {'code': 200, 'message': 'Batch successfully added', 'status': 'OK'}\n",
            "6000 {'code': 200, 'message': 'Batch successfully added', 'status': 'OK'}\n",
            "6500 {'code': 200, 'message': 'Batch successfully added', 'status': 'OK'}\n",
            "7000 {'code': 200, 'message': 'Batch successfully added', 'status': 'OK'}\n",
            "7500 {'code': 200, 'message': 'Batch successfully added', 'status': 'OK'}\n",
            "8000 {'code': 200, 'message': 'Batch successfully added', 'status': 'OK'}\n",
            "8500 {'code': 200, 'message': 'Batch successfully added', 'status': 'OK'}\n",
            "9000 {'code': 200, 'message': 'Batch successfully added', 'status': 'OK'}\n",
            "9500 {'code': 200, 'message': 'Batch successfully added', 'status': 'OK'}\n",
            "10000 {'code': 200, 'message': 'Batch successfully added', 'status': 'OK'}\n",
            "10500 {'code': 200, 'message': 'Batch successfully added', 'status': 'OK'}\n",
            "11000 {'code': 200, 'message': 'Batch successfully added', 'status': 'OK'}\n",
            "11500 {'code': 200, 'message': 'Batch successfully added', 'status': 'OK'}\n",
            "12000 {'code': 200, 'message': 'Batch successfully added', 'status': 'OK'}\n",
            "12500 {'code': 200, 'message': 'Batch successfully added', 'status': 'OK'}\n",
            "13000 {'code': 200, 'message': 'Batch successfully added', 'status': 'OK'}\n",
            "13500 {'code': 200, 'message': 'Batch successfully added', 'status': 'OK'}\n",
            "14000 {'code': 200, 'message': 'Batch successfully added', 'status': 'OK'}\n",
            "14500 {'code': 200, 'message': 'Batch successfully added', 'status': 'OK'}\n",
            "15000 {'code': 200, 'message': 'Batch successfully added', 'status': 'OK'}\n",
            "15500 {'code': 200, 'message': 'Batch successfully added', 'status': 'OK'}\n",
            "16000 {'code': 200, 'message': 'Batch successfully added', 'status': 'OK'}\n",
            "16500 {'code': 200, 'message': 'Batch successfully added', 'status': 'OK'}\n",
            "17000 {'code': 200, 'message': 'Batch successfully added', 'status': 'OK'}\n",
            "17500 {'code': 200, 'message': 'Batch successfully added', 'status': 'OK'}\n",
            "18000 {'code': 200, 'message': 'Batch successfully added', 'status': 'OK'}\n",
            "18500 {'code': 200, 'message': 'Batch successfully added', 'status': 'OK'}\n",
            "19000 {'code': 200, 'message': 'Batch successfully added', 'status': 'OK'}\n",
            "19500 {'code': 200, 'message': 'Batch successfully added', 'status': 'OK'}\n",
            "20000 {'code': 200, 'message': 'Batch successfully added', 'status': 'OK'}\n",
            "20500 {'code': 200, 'message': 'Batch successfully added', 'status': 'OK'}\n",
            "21000 {'code': 200, 'message': 'Batch successfully added', 'status': 'OK'}\n",
            "21500 {'code': 200, 'message': 'Batch successfully added', 'status': 'OK'}\n",
            "22000 {'code': 200, 'message': 'Batch successfully added', 'status': 'OK'}\n",
            "22500 {'code': 200, 'message': 'Batch successfully added', 'status': 'OK'}\n",
            "23000 {'code': 200, 'message': 'Batch successfully added', 'status': 'OK'}\n",
            "23500 {'code': 200, 'message': 'Batch successfully added', 'status': 'OK'}\n",
            "24000 {'code': 200, 'message': 'Batch successfully added', 'status': 'OK'}\n",
            "24500 {'code': 200, 'message': 'Batch successfully added', 'status': 'OK'}\n",
            "25000 {'code': 200, 'message': 'Batch successfully added', 'status': 'OK'}\n",
            "25500 {'code': 200, 'message': 'Batch successfully added', 'status': 'OK'}\n",
            "26000 {'code': 200, 'message': 'Batch successfully added', 'status': 'OK'}\n",
            "26500 {'code': 200, 'message': 'Batch successfully added', 'status': 'OK'}\n",
            "27000 {'code': 200, 'message': 'Batch successfully added', 'status': 'OK'}\n",
            "27500 {'code': 200, 'message': 'Batch successfully added', 'status': 'OK'}\n",
            "28000 {'code': 200, 'message': 'Batch successfully added', 'status': 'OK'}\n",
            "28500 {'code': 200, 'message': 'Batch successfully added', 'status': 'OK'}\n",
            "29000 {'code': 200, 'message': 'Batch successfully added', 'status': 'OK'}\n",
            "29500 {'code': 200, 'message': 'Batch successfully added', 'status': 'OK'}\n",
            "30000 {'code': 200, 'message': 'Batch successfully added', 'status': 'OK'}\n",
            "30500 {'code': 200, 'message': 'Batch successfully added', 'status': 'OK'}\n",
            "31000 {'code': 200, 'message': 'Batch successfully added', 'status': 'OK'}\n",
            "31500 {'code': 200, 'message': 'Batch successfully added', 'status': 'OK'}\n",
            "32000 {'code': 200, 'message': 'Batch successfully added', 'status': 'OK'}\n",
            "32500 {'code': 200, 'message': 'Batch successfully added', 'status': 'OK'}\n",
            "33000 {'code': 200, 'message': 'Batch successfully added', 'status': 'OK'}\n",
            "33500 {'code': 200, 'message': 'Batch successfully added', 'status': 'OK'}\n",
            "34000 {'code': 200, 'message': 'Batch successfully added', 'status': 'OK'}\n",
            "34500 {'code': 200, 'message': 'Batch successfully added', 'status': 'OK'}\n",
            "35000 {'code': 200, 'message': 'Batch successfully added', 'status': 'OK'}\n",
            "35500 {'code': 200, 'message': 'Batch successfully added', 'status': 'OK'}\n",
            "36000 {'code': 200, 'message': 'Batch successfully added', 'status': 'OK'}\n",
            "36500 {'code': 200, 'message': 'Batch successfully added', 'status': 'OK'}\n",
            "37000 {'code': 200, 'message': 'Batch successfully added', 'status': 'OK'}\n",
            "37500 {'code': 200, 'message': 'Batch successfully added', 'status': 'OK'}\n",
            "38000 {'code': 200, 'message': 'Batch successfully added', 'status': 'OK'}\n",
            "38500 {'code': 200, 'message': 'Batch successfully added', 'status': 'OK'}\n",
            "39000 {'code': 200, 'message': 'Batch successfully added', 'status': 'OK'}\n",
            "39500 {'code': 200, 'message': 'Batch successfully added', 'status': 'OK'}\n",
            "40000 {'code': 200, 'message': 'Batch successfully added', 'status': 'OK'}\n",
            "40500 {'code': 200, 'message': 'Batch successfully added', 'status': 'OK'}\n",
            "41000 {'code': 200, 'message': 'Batch successfully added', 'status': 'OK'}\n",
            "41500 {'code': 200, 'message': 'Batch successfully added', 'status': 'OK'}\n",
            "42000 {'code': 200, 'message': 'Batch successfully added', 'status': 'OK'}\n",
            "42500 {'code': 200, 'message': 'Batch successfully added', 'status': 'OK'}\n",
            "43000 {'code': 200, 'message': 'Batch successfully added', 'status': 'OK'}\n",
            "43500 {'code': 200, 'message': 'Batch successfully added', 'status': 'OK'}\n",
            "44000 {'code': 200, 'message': 'Batch successfully added', 'status': 'OK'}\n",
            "44500 {'code': 200, 'message': 'Batch successfully added', 'status': 'OK'}\n",
            "45000 {'code': 200, 'message': 'Batch successfully added', 'status': 'OK'}\n",
            "45500 {'code': 200, 'message': 'Batch successfully added', 'status': 'OK'}\n",
            "46000 {'code': 200, 'message': 'Batch successfully added', 'status': 'OK'}\n",
            "46500 {'code': 200, 'message': 'Batch successfully added', 'status': 'OK'}\n",
            "47000 {'code': 200, 'message': 'Batch successfully added', 'status': 'OK'}\n",
            "47500 {'code': 200, 'message': 'Batch successfully added', 'status': 'OK'}\n",
            "48000 {'code': 200, 'message': 'Batch successfully added', 'status': 'OK'}\n",
            "48500 {'code': 200, 'message': 'Batch successfully added', 'status': 'OK'}\n",
            "49000 {'code': 200, 'message': 'Batch successfully added', 'status': 'OK'}\n",
            "49500 {'code': 200, 'message': 'Batch successfully added', 'status': 'OK'}\n",
            "50000 {'code': 200, 'message': 'Batch successfully added', 'status': 'OK'}\n",
            "50500 {'code': 200, 'message': 'Batch successfully added', 'status': 'OK'}\n",
            "51000 {'code': 200, 'message': 'Batch successfully added', 'status': 'OK'}\n",
            "51500 {'code': 200, 'message': 'Batch successfully added', 'status': 'OK'}\n",
            "52000 {'code': 200, 'message': 'Batch successfully added', 'status': 'OK'}\n",
            "52500 {'code': 200, 'message': 'Batch successfully added', 'status': 'OK'}\n",
            "53000 {'code': 200, 'message': 'Batch successfully added', 'status': 'OK'}\n",
            "53500 {'code': 200, 'message': 'Batch successfully added', 'status': 'OK'}\n",
            "54000 {'code': 200, 'message': 'Batch successfully added', 'status': 'OK'}\n",
            "54500 {'code': 200, 'message': 'Batch successfully added', 'status': 'OK'}\n",
            "55000 {'code': 200, 'message': 'Batch successfully added', 'status': 'OK'}\n",
            "55500 {'code': 200, 'message': 'Batch successfully added', 'status': 'OK'}\n",
            "56000 {'code': 200, 'message': 'Batch successfully added', 'status': 'OK'}\n",
            "56500 {'code': 200, 'message': 'Batch successfully added', 'status': 'OK'}\n",
            "57000 {'code': 200, 'message': 'Batch successfully added', 'status': 'OK'}\n",
            "57500 {'code': 200, 'message': 'Batch successfully added', 'status': 'OK'}\n",
            "58000 {'code': 200, 'message': 'Batch successfully added', 'status': 'OK'}\n",
            "58500 {'code': 200, 'message': 'Batch successfully added', 'status': 'OK'}\n",
            "59000 {'code': 200, 'message': 'Batch successfully added', 'status': 'OK'}\n",
            "59500 {'code': 200, 'message': 'Batch successfully added', 'status': 'OK'}\n",
            "60000 {'code': 200, 'message': 'Batch successfully added', 'status': 'OK'}\n",
            "60500 {'code': 200, 'message': 'Batch successfully added', 'status': 'OK'}\n",
            "61000 {'code': 200, 'message': 'Batch successfully added', 'status': 'OK'}\n",
            "61500 {'code': 200, 'message': 'Batch successfully added', 'status': 'OK'}\n",
            "62000 {'code': 200, 'message': 'Batch successfully added', 'status': 'OK'}\n",
            "62500 {'code': 200, 'message': 'Batch successfully added', 'status': 'OK'}\n",
            "63000 {'code': 200, 'message': 'Batch successfully added', 'status': 'OK'}\n",
            "63500 {'code': 200, 'message': 'Batch successfully added', 'status': 'OK'}\n",
            "64000 {'code': 200, 'message': 'Batch successfully added', 'status': 'OK'}\n",
            "64500 {'code': 200, 'message': 'Batch successfully added', 'status': 'OK'}\n",
            "65000 {'code': 200, 'message': 'Batch successfully added', 'status': 'OK'}\n",
            "65500 {'code': 200, 'message': 'Batch successfully added', 'status': 'OK'}\n",
            "66000 {'code': 200, 'message': 'Batch successfully added', 'status': 'OK'}\n",
            "66500 {'code': 200, 'message': 'Batch successfully added', 'status': 'OK'}\n",
            "67000 {'code': 200, 'message': 'Batch successfully added', 'status': 'OK'}\n",
            "67500 {'code': 200, 'message': 'Batch successfully added', 'status': 'OK'}\n",
            "68000 {'code': 200, 'message': 'Batch successfully added', 'status': 'OK'}\n",
            "68500 {'code': 200, 'message': 'Batch successfully added', 'status': 'OK'}\n",
            "69000 {'code': 200, 'message': 'Batch successfully added', 'status': 'OK'}\n",
            "69500 {'code': 200, 'message': 'Batch successfully added', 'status': 'OK'}\n",
            "70000 {'code': 200, 'message': 'Batch successfully added', 'status': 'OK'}\n",
            "70500 {'code': 200, 'message': 'Batch successfully added', 'status': 'OK'}\n",
            "71000 {'code': 200, 'message': 'Batch successfully added', 'status': 'OK'}\n",
            "71500 {'code': 200, 'message': 'Batch successfully added', 'status': 'OK'}\n",
            "72000 {'code': 200, 'message': 'Batch successfully added', 'status': 'OK'}\n",
            "72500 {'code': 200, 'message': 'Batch successfully added', 'status': 'OK'}\n",
            "73000 {'code': 200, 'message': 'Batch successfully added', 'status': 'OK'}\n",
            "73500 {'code': 200, 'message': 'Batch successfully added', 'status': 'OK'}\n",
            "74000 {'code': 200, 'message': 'Batch successfully added', 'status': 'OK'}\n",
            "74500 {'code': 200, 'message': 'Batch successfully added', 'status': 'OK'}\n",
            "75000 {'code': 200, 'message': 'Batch successfully added', 'status': 'OK'}\n",
            "75500 {'code': 200, 'message': 'Batch successfully added', 'status': 'OK'}\n",
            "76000 {'code': 200, 'message': 'Batch successfully added', 'status': 'OK'}\n",
            "76500 {'code': 200, 'message': 'Batch successfully added', 'status': 'OK'}\n",
            "77000 {'code': 200, 'message': 'Batch successfully added', 'status': 'OK'}\n",
            "77500 {'code': 200, 'message': 'Batch successfully added', 'status': 'OK'}\n",
            "78000 {'code': 200, 'message': 'Batch successfully added', 'status': 'OK'}\n",
            "78500 {'code': 200, 'message': 'Batch successfully added', 'status': 'OK'}\n",
            "79000 {'code': 200, 'message': 'Batch successfully added', 'status': 'OK'}\n",
            "79500 {'code': 200, 'message': 'Batch successfully added', 'status': 'OK'}\n",
            "80000 {'code': 200, 'message': 'Batch successfully added', 'status': 'OK'}\n",
            "80500 {'code': 200, 'message': 'Batch successfully added', 'status': 'OK'}\n",
            "81000 {'code': 200, 'message': 'Batch successfully added', 'status': 'OK'}\n",
            "81500 {'code': 200, 'message': 'Batch successfully added', 'status': 'OK'}\n",
            "82000 {'code': 200, 'message': 'Batch successfully added', 'status': 'OK'}\n",
            "82500 {'code': 200, 'message': 'Batch successfully added', 'status': 'OK'}\n",
            "83000 {'code': 200, 'message': 'Batch successfully added', 'status': 'OK'}\n",
            "83500 {'code': 200, 'message': 'Batch successfully added', 'status': 'OK'}\n",
            "84000 {'code': 200, 'message': 'Batch successfully added', 'status': 'OK'}\n",
            "84500 {'code': 200, 'message': 'Batch successfully added', 'status': 'OK'}\n",
            "85000 {'code': 200, 'message': 'Batch successfully added', 'status': 'OK'}\n",
            "85500 {'code': 200, 'message': 'Batch successfully added', 'status': 'OK'}\n",
            "86000 {'code': 200, 'message': 'Batch successfully added', 'status': 'OK'}\n",
            "86500 {'code': 200, 'message': 'Batch successfully added', 'status': 'OK'}\n",
            "87000 {'code': 200, 'message': 'Batch successfully added', 'status': 'OK'}\n",
            "87500 {'code': 200, 'message': 'Batch successfully added', 'status': 'OK'}\n",
            "88000 {'code': 200, 'message': 'Batch successfully added', 'status': 'OK'}\n",
            "88500 {'code': 200, 'message': 'Batch successfully added', 'status': 'OK'}\n",
            "89000 {'code': 200, 'message': 'Batch successfully added', 'status': 'OK'}\n",
            "89500 {'code': 200, 'message': 'Batch successfully added', 'status': 'OK'}\n",
            "90000 {'code': 200, 'message': 'Batch successfully added', 'status': 'OK'}\n",
            "90500 {'code': 200, 'message': 'Batch successfully added', 'status': 'OK'}\n",
            "91000 {'code': 200, 'message': 'Batch successfully added', 'status': 'OK'}\n",
            "91500 {'code': 200, 'message': 'Batch successfully added', 'status': 'OK'}\n",
            "92000 {'code': 200, 'message': 'Batch successfully added', 'status': 'OK'}\n",
            "92500 {'code': 200, 'message': 'Batch successfully added', 'status': 'OK'}\n",
            "93000 {'code': 200, 'message': 'Batch successfully added', 'status': 'OK'}\n",
            "93500 {'code': 200, 'message': 'Batch successfully added', 'status': 'OK'}\n",
            "94000 {'code': 200, 'message': 'Batch successfully added', 'status': 'OK'}\n",
            "94500 {'code': 200, 'message': 'Batch successfully added', 'status': 'OK'}\n",
            "95000 {'code': 200, 'message': 'Batch successfully added', 'status': 'OK'}\n",
            "95500 {'code': 200, 'message': 'Batch successfully added', 'status': 'OK'}\n",
            "96000 {'code': 200, 'message': 'Batch successfully added', 'status': 'OK'}\n",
            "96500 {'code': 200, 'message': 'Batch successfully added', 'status': 'OK'}\n",
            "97000 {'code': 200, 'message': 'Batch successfully added', 'status': 'OK'}\n",
            "97500 {'code': 200, 'message': 'Batch successfully added', 'status': 'OK'}\n",
            "98000 {'code': 200, 'message': 'Batch successfully added', 'status': 'OK'}\n",
            "98500 {'code': 200, 'message': 'Batch successfully added', 'status': 'OK'}\n",
            "99000 {'code': 200, 'message': 'Batch successfully added', 'status': 'OK'}\n",
            "99500 {'code': 200, 'message': 'Batch successfully added', 'status': 'OK'}\n",
            "99999 {'code': 200, 'message': 'Batch successfully added', 'status': 'OK'}\n"
          ]
        },
        {
          "output_type": "execute_result",
          "data": {
            "text/plain": [
              "{'code': 200, 'message': 'Dataset committed successfully', 'status': 'OK'}"
            ]
          },
          "metadata": {},
          "execution_count": 20
        }
      ]
    },
    {
      "cell_type": "markdown",
      "metadata": {
        "id": "8lRgTyKwWJ84"
      },
      "source": [
        "## 6. Define Logic and Run a Query\n",
        "We will build a hybrid search query using Hyper-space. In the query,  we will select a document and find similar ones.\n",
        "The score function is given under Crime_Score_Function.py\n"
      ],
      "id": "8lRgTyKwWJ84"
    },
    {
      "cell_type": "code",
      "execution_count": 21,
      "metadata": {
        "id": "0YdFBOCsOJka",
        "outputId": "4e8f8d65-6905-4481-b466-c5f7fcf1108d",
        "colab": {
          "base_uri": "https://localhost:8080/"
        }
      },
      "outputs": [
        {
          "output_type": "stream",
          "name": "stdout",
          "text": [
            "{'Arrest': False,\n",
            " 'Beat': 1711,\n",
            " 'Block': '057XX N SPAULDING AVE',\n",
            " 'Case Number': 'HY411327',\n",
            " 'Community Area': 13,\n",
            " 'Date': 1441396800,\n",
            " 'Description': 'TO VEHICLE',\n",
            " 'District': 17,\n",
            " 'Domestic': False,\n",
            " 'FBI Code': '14',\n",
            " 'ID': 10224814,\n",
            " 'IUCR': '1320',\n",
            " 'Latitude': 41.985148529,\n",
            " 'Location': [41.985148529, -87.711378169],\n",
            " 'Location Description': 'STREET',\n",
            " 'Longitude': -87.711378169,\n",
            " 'Primary Type': 'CRIMINAL DAMAGE',\n",
            " 'Updated On': 1518270601,\n",
            " 'Ward': 39,\n",
            " 'X Coordinate': 1153345,\n",
            " 'Y Coordinate': 1937792,\n",
            " 'Year': 2015}\n"
          ]
        }
      ],
      "source": [
        "from pprint import pprint\n",
        "\n",
        "input_vector = hyperspace_client.get_document(collection_name, \"65\")\n",
        "pprint(input_vector)"
      ],
      "id": "0YdFBOCsOJka"
    },
    {
      "cell_type": "markdown",
      "source": [
        "We will use a very simple logic, which matchs the description and location, and make sure case number doesn't match so we won't get back the same result.\n",
        "\n",
        "We use the following logic:\n",
        "\n",
        "\n",
        "*   Match crime description and not case number\n",
        "*   geo_dist match (geo distance)\n",
        "*   Match district and window_match the date\n",
        "*   Match Block\n",
        "\n",
        "Score function can be view in the next block\n",
        "\n",
        "\n",
        "\n"
      ],
      "metadata": {
        "id": "ozeEfW7b6g9Z"
      },
      "id": "ozeEfW7b6g9Z"
    },
    {
      "cell_type": "code",
      "execution_count": 22,
      "metadata": {
        "id": "5ff98e9d",
        "outputId": "d5913015-e2d6-4f7a-edd4-78f67bff7f2f",
        "colab": {
          "base_uri": "https://localhost:8080/"
        }
      },
      "outputs": [
        {
          "output_type": "stream",
          "name": "stdout",
          "text": [
            "query run time: 3.17509\n",
            "1 id 65 score =  16.02469253540039\n",
            "2 id 30954 score =  9.138360977172852\n",
            "3 id 30984 score =  9.138360977172852\n",
            "4 id 30985 score =  9.138360977172852\n",
            "5 id 30989 score =  9.138360977172852\n",
            "6 id 31004 score =  9.138360977172852\n",
            "7 id 31176 score =  9.138360977172852\n",
            "8 id 31192 score =  9.138360977172852\n",
            "9 id 31195 score =  9.138360977172852\n",
            "10 id 31230 score =  9.138360977172852\n",
            "11 id 31239 score =  9.138360977172852\n",
            "12 id 31270 score =  9.138360977172852\n",
            "13 id 31304 score =  9.138360977172852\n",
            "14 id 31305 score =  9.138360977172852\n",
            "15 id 31323 score =  9.138360977172852\n",
            "16 id 31333 score =  9.138360977172852\n",
            "17 id 31356 score =  9.138360977172852\n",
            "18 id 31357 score =  9.138360977172852\n",
            "19 id 31363 score =  9.138360977172852\n",
            "20 id 31382 score =  9.138360977172852\n",
            "21 id 31429 score =  9.138360977172852\n",
            "22 id 31430 score =  9.138360977172852\n",
            "23 id 31447 score =  9.138360977172852\n",
            "24 id 31453 score =  9.138360977172852\n",
            "25 id 31462 score =  9.138360977172852\n",
            "26 id 31521 score =  9.138360977172852\n",
            "27 id 31542 score =  9.138360977172852\n",
            "28 id 31592 score =  9.138360977172852\n",
            "29 id 31595 score =  9.138360977172852\n",
            "30 id 31604 score =  9.138360977172852\n"
          ]
        }
      ],
      "source": [
        "response = hyperspace_client.set_function('Crime_Score_Function.py', collection_name=collection_name, function_name='similarity_sf')\n",
        "\n",
        "query = {\n",
        "    'params': input_vector,\n",
        "     \"query\": {\"boost\": 1}\n",
        "}\n",
        "\n",
        "results = hyperspace_client.search(query,\n",
        "                                        size=30,\n",
        "                                        function_name='similarity_sf',\n",
        "                                        collection_name=collection_name)\n",
        "print(\"query run time:\", results[\"took_ms\"])\n",
        "for i, result in enumerate(results['similarity']):\n",
        "  vector_api_response = hyperspace_client.get_document(document_id=result['document_id'], collection_name=collection_name)\n",
        "  print(i + 1, \"id\", result['document_id'], \"score = \" , result[\"score\"])\n",
        "\n"
      ],
      "id": "5ff98e9d"
    },
    {
      "cell_type": "markdown",
      "source": [
        "We display the top 30 results. Note that results with similar score are ordered arbitrarily, so more complex logic will likely result in better outcome.\n",
        "\n",
        "For more information, visit us at [Hyperspace](https://www.hyper-space.io/)"
      ],
      "metadata": {
        "id": "EOdmFy7WDBGx"
      },
      "id": "EOdmFy7WDBGx"
    }
  ],
  "metadata": {
    "colab": {
      "provenance": []
    },
    "kernelspec": {
      "display_name": "Python 3 (ipykernel)",
      "language": "python",
      "name": "python3"
    },
    "language_info": {
      "codemirror_mode": {
        "name": "ipython",
        "version": 3
      },
      "file_extension": ".py",
      "mimetype": "text/x-python",
      "name": "python",
      "nbconvert_exporter": "python",
      "pygments_lexer": "ipython3",
      "version": "3.9.13"
    }
  },
  "nbformat": 4,
  "nbformat_minor": 5
}