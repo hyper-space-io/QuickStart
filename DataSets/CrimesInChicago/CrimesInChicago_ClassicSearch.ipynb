{
 "cells": [
  {
   "cell_type": "markdown",
   "source": [
    "![63f78014766fd30436c18a79_Hyperspace - navbar logo.png](data:image/png;base64,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)"
   ],
   "metadata": {
    "id": "X3eWQaOFp2lG"
   },
   "id": "X3eWQaOFp2lG"
  },
  {
   "cell_type": "markdown",
   "metadata": {
    "id": "1Kone1nET7HS"
   },
   "source": [
    "# Classic Search With Hyperspace\n",
    "This notebook demonstrates the use of Hyperspace engine for classic search, combining keyword and value matching.\n",
    "For more info, see the [Hyperspace documentation](https://docs.hyper-space.io/hyperspace-docs/getting-started/overview).\n",
    "\n",
    "[![Open In Colab](https://colab.research.google.com/assets/colab-badge.svg)](https://colab.research.google.com/github/hyper-space-io/QuickStart/blob/master/DataSets/CrimesInChicago/CrimesInChicago_ClassicSearch.ipynb)\n",
    "## The Dataset - Crimes In Chicago Dataset\n",
    "From Kaggle:\n",
    "\"This dataset reflects reported incidents of crime (with the exception of murders where data exists for each victim) that occurred in the City of Chicago from 2001 to present, minus the most recent seven days. Data is extracted from the Chicago Police Department's CLEAR (Citizen Law Enforcement Analysis and Reporting) system. In order to protect the privacy of crime victims, addresses are shown at the block level only and specific locations are not identified. This data includes unverified reports supplied to the Police Department. The preliminary crime classifications may be changed at a later date based upon additional investigation and there is always the possibility of mechanical or human error. Therefore, the Chicago Police Department does not guarantee (either expressed or implied) the accuracy, completeness, timeliness, or correct sequencing of the information and the information should not be used for comparison purposes over time.\"\n",
    "\n",
    "The [dataset](https://www.kaggle.com/datasets/chicago/chicago-crime) can be downloaded from [Hyperspace git](https://github.com/hyper-space-io/QuickStart/blob/main/DataSets/CrimesInChicago/100k-crimes-dataset-processed_data.zip).\n",
    "\n",
    "## The Dataset Fields\n",
    "1. **Case Number {'type': 'keyword'}** - The Chicago Police Department RD Number (Records Division Number), which is unique to the incident.\n",
    "2. **Date {'type': 'date', 'format': 'MM/dd/yyyy hh:mm:ss a'}** - Date when the incident occurred. this is sometimes a best estimate.\n",
    "3. **Block {'type 'keyword'}** -The partially redacted address where the incident occurred, placing it on the same block as the actual address.\n",
    "4. **IUCR {'type 'keyword'}** - The Illinois Unifrom Crime Reporting code. This is directly linked to the Primary Type and Description. See the list of IUCR codes at https://data.cityofchicago.org/d/c7ck-438e.\n",
    "5. **Primary Type {'type 'keyword'}** - The primary description of the IUCR code.\n",
    "6. **Description {'type 'keyword'}** - The secondary description of the IUCR code, a subcategory of the primary description.\n",
    "7. **Location Description {'type 'keyword'}** - Description of the location where the incident occurred.\n",
    "8. **Arrest {'type 'boolean'}** - Indicates whether an arrest was made.\n",
    "9. **Domestic {'type 'boolean'}** - Indicates whether the incident was domestic-related as defined by the Illinois Domestic Violence Act.\n",
    "10. **Beat {'type 'integer'}** - Indicates the beat where the incident occurred. A beat is the smallest police geographic area – each beat has a dedicated police beat car. Three to five beats make up a police sector, and three sectors make up a police district. The Chicago Police Department has 22 police districts. See the beats at https://data.cityofchicago.org/d/aerh-rz74.\n",
    "11. **District {'type 'integer'}** - Indicates the police district where the incident occurred. See the districts at https://data.cityofchicago.org/d/fthy-xz3r.\n",
    "12. **Ward {'type 'integer'}** - The ward (City Council district) where the incident occurred. See the wards at https://data.cityofchicago.org/d/sp34-6z76.\n",
    "13. **Community Area {'type 'integer'}** - Indicates the community area where the incident occurred. Chicago has 77 community areas. See the community areas at https://data.cityofchicago.org/d/cauq-8yn6.\n",
    "14. **FBI Code {'type 'keyword'}** - Indicates the crime classification as outlined in the FBI's National Incident-Based Reporting System (NIBRS). See the Chicago Police Department listing of these classifications at http://gis.chicagopolice.org/clearmap_crime_sums/crime_types.html.\n",
    "15. **X Coordinate {'type 'integer'}** - The x coordinate of the location where the incident occurred in State Plane Illinois East NAD 1983 projection. This location is shifted from the actual location for partial redaction but falls on the same block.\n",
    "16. **Y Coordinate {'type 'integer'}** - The y coordinate of the location where the incident occurred in State Plane Illinois East NAD 1983 projection. This location is shifted from the actual location for partial redaction but falls on the same block.\n",
    "17. **Year {'type 'integer'}** - Year the incident occurred.\n",
    "18. **Updated On {'type 'date', 'format 'MM/dd/yyyy hh:mm:ss a'}** - Date and time the record was last updated.\n",
    "19. **Latitude {'type 'float'}** - The latitude of the location where the incident occurred. This location is shifted from the actual location for partial redaction but falls on the same block.\n",
    "20. **Longitude {'type 'float'}** - The longitude of the location where the incident occurred. This location is shifted from the actual location for partial redaction but falls on the same block.\n",
    "21. **Location {'type 'geo_point', 'struct_type 'list'}** - The location where the incident occurred in a format that allows for creation of maps and other geographic operations on this data portal. This location is shifted from the actual location for partial redaction but falls on the same block."
   ],
   "id": "1Kone1nET7HS"
  },
  {
   "cell_type": "markdown",
   "source": [
    "\n",
    "# Setting up the Hyperspace Environment\n",
    "Setting up the environment and running the query includes the following steps\n",
    "1. Download and install the client API\n",
    "2. Connect to a server\n",
    "3. Create data schema file\n",
    "4. Create collection\n",
    "5. Ingest data\n",
    "6. Run query"
   ],
   "metadata": {
    "id": "QHPcXuhkq4uN"
   },
   "id": "QHPcXuhkq4uN"
  },
  {
   "cell_type": "markdown",
   "metadata": {
    "id": "SZwFmp6tVLZ_"
   },
   "source": [
    "## 1. Install the Hyperspace client API\n",
    "Hyperspace API can be installed directly from git, using the following command:"
   ],
   "id": "SZwFmp6tVLZ_"
  },
  {
   "cell_type": "code",
   "execution_count": null,
   "metadata": {
    "id": "l1DTYoFb1vnF",
    "outputId": "fec68637-8582-46fa-89e9-2720a731a9cc",
    "colab": {
     "base_uri": "https://localhost:8080/"
    }
   },
   "outputs": [],
   "source": [
    "pip install git+https://github.com/hyper-space-io/hyperspace-py"
   ],
   "id": "l1DTYoFb1vnF"
  },
  {
   "cell_type": "markdown",
   "source": [
    "### Download dataset"
   ],
   "metadata": {
    "collapsed": false
   },
   "id": "e9053cb5ddb9badb"
  },
  {
   "cell_type": "code",
   "execution_count": null,
   "outputs": [],
   "source": [
    "from urllib.request import urlretrieve\n",
    "import os\n",
    "\n",
    "def download_data(url, file_name):\n",
    "    \"\"\"\n",
    "    url (str): URL of the file to download.\n",
    "    file_name (str): Local path where the file will be saved.\n",
    "    \"\"\"\n",
    "    # Check if the file already exists and is not empty\n",
    "    if os.path.exists(file_name) and os.path.getsize(file_name) > 0:\n",
    "        print(f\"The file {file_name} already exists and is not empty.\")\n",
    "    else:\n",
    "        try:\n",
    "            # Attempt to download the file from `url` and save it locally under `file_name`\n",
    "            urlretrieve(url, file_name)\n",
    "            # Check if the file was downloaded and is not empty\n",
    "            if os.path.exists(file_name) and os.path.getsize(file_name) > 0:\n",
    "                print(f\"Successfully downloaded {file_name}\")\n",
    "            else:\n",
    "                print(\"Download failed or file is empty.\")\n",
    "                \n",
    "        except Exception as e:\n",
    "            print(f\"An error occurred: {e}\")\n",
    "\n",
    "import zipfile\n",
    "def unzip_file(path_to_zip_file):\n",
    "    directory_to_extract_to = './'\n",
    "    try:\n",
    "        with zipfile.ZipFile(path_to_zip_file, 'r') as zip_ref:\n",
    "            zip_ref.extractall(directory_to_extract_to)\n",
    "        print(f'Success! Files have been extracted to {directory_to_extract_to}')\n",
    "\n",
    "    except zipfile.BadZipFile:  # Handle a bad zip file\n",
    "        print(\"Error: The file is a bad zip file. Unable to unzip.\")\n",
    "    except FileNotFoundError:  # Handle the file not being found\n",
    "        print(\"Error: The file was not found. Please check the path.\")\n",
    "    except Exception as e:  # Handle other exceptions\n",
    "        print(f\"An error occurred: {e}\")"
   ],
   "metadata": {
    "collapsed": false
   },
   "id": "6b925cd0e598eff1"
  },
  {
   "cell_type": "code",
   "execution_count": null,
   "outputs": [],
   "source": [
    "data_url = \"https://hyperspace-datasets.s3.eu-central-1.amazonaws.com/100k-crimes-dataset-processed_data.zip\"\n",
    "download_data(data_url, \"./100k-crimes-dataset-processed_data.zip\")\n",
    "unzip_file(\"./100k-crimes-dataset-processed_data.zip\")"
   ],
   "metadata": {
    "collapsed": false
   },
   "id": "363dc2a1498d9fce"
  },
  {
   "cell_type": "markdown",
   "metadata": {
    "id": "TCZSwM6DVeDm"
   },
   "source": [
    "## 2. Connect to a server\n",
    "\n",
    "Once the Hyperspace API is installed, the database can be accessed by creating a local instance of the Hyperspace client. This step requires host address, username and password."
   ],
   "id": "TCZSwM6DVeDm"
  },
  {
   "cell_type": "code",
   "execution_count": null,
   "metadata": {
    "id": "8NVXuwyozUi7"
   },
   "outputs": [],
   "source": [
    "import hyperspace\n",
    "from getpass import getpass\n",
    "\n",
    "username = \"USERNAME\"\n",
    "host = \"HOST_URL\"\n",
    "\n",
    "hyperspace_client = hyperspace.HyperspaceClientApi(host=host, username=username, password=getpass())"
   ],
   "id": "8NVXuwyozUi7"
  },
  {
   "cell_type": "markdown",
   "source": [
    "We check the status before proceeding"
   ],
   "metadata": {
    "id": "1rxCqQ58kuzL"
   },
   "id": "1rxCqQ58kuzL"
  },
  {
   "cell_type": "code",
   "execution_count": null,
   "metadata": {
    "id": "cH_lWsLLza0n",
    "colab": {
     "base_uri": "https://localhost:8080/",
     "height": 72
    },
    "outputId": "fb19b7c2-e567-411f-dff9-43f9adc6d13a"
   },
   "outputs": [],
   "source": [
    "collections_info = hyperspace_client.collections_info()\n",
    "display(collections_info)"
   ],
   "id": "cH_lWsLLza0n"
  },
  {
   "cell_type": "markdown",
   "metadata": {
    "id": "HXmdh3YGVfQV"
   },
   "source": [
    "## 3. Create a Data Schema File\n",
    "\n",
    "Similarly to other search databases, Hyper-Space database requires a configuration file that outlines the data schema. Here, we create a config file that corresponds to the fields of the given dataset.\n",
    "\n",
    "For vector fields, we also provide the index type to be used, and the metric. . Current options for index include \"**brute_force**\", \"**hnsw**\", \"**ivf**\", and \"**bin_ivf**\" for binary vectors, and \"**IP**\" (inner product) as a metric for floating point vectors and \"**Hamming**\" ([hamming distance](https://en.wikipedia.org/wiki/Hamming_distance)) for binary vectors.\n",
    "Note that the key 'low_cardinality' enables faster search for low cardinality fields."
   ],
   "id": "HXmdh3YGVfQV"
  },
  {
   "cell_type": "code",
   "source": [
    "import json\n",
    "\n",
    "config = {\n",
    "  \"configuration\": {\n",
    "    \"ID\": {\n",
    "      \"type\": \"keyword\",\n",
    "      \"id\": True\n",
    "    },\n",
    "    \"Case Number\": {\n",
    "      \"type\": \"keyword\"\n",
    "    },\n",
    "    \"Date\": {\n",
    "      \"type\": \"date\",\n",
    "      \"format\": \"MM/dd/yyyy hh:mm:ss a\"\n",
    "    },\n",
    "    \"Block\": {\n",
    "      \"type\": \"keyword\"\n",
    "    },\n",
    "    \"IUCR\": {\n",
    "      \"type\": \"keyword\"\n",
    "    },\n",
    "    \"Primary Type\": {\n",
    "      \"type\": \"keyword\"\n",
    "    },\n",
    "    \"Description\": {\n",
    "      \"type\": \"keyword\"\n",
    "    },\n",
    "    \"Location Description\": {\n",
    "      \"type\": \"keyword\"\n",
    "    },\n",
    "    \"Arrest\": {\n",
    "      \"type\": \"boolean\"\n",
    "    },\n",
    "    \"Domestic\": {\n",
    "      \"type\": \"boolean\"\n",
    "    },\n",
    "    \"Beat\": {\n",
    "      \"type\": \"integer\"\n",
    "    },\n",
    "    \"District\": {\n",
    "      \"type\": \"integer\"\n",
    "    },\n",
    "    \"Ward\": {\n",
    "      \"type\": \"integer\"\n",
    "    },\n",
    "    \"Community Area\": {\n",
    "      \"type\": \"integer\"\n",
    "    },\n",
    "    \"FBI Code\": {\n",
    "      \"type\": \"keyword\"\n",
    "    },\n",
    "    \"X Coordinate\": {\n",
    "      \"type\": \"integer\"\n",
    "    },\n",
    "    \"Y Coordinate\": {\n",
    "      \"type\": \"integer\"\n",
    "    },\n",
    "    \"Year\": {\n",
    "      \"type\": \"integer\"\n",
    "    },\n",
    "    \"Updated On\": {\n",
    "      \"type\": \"date\",\n",
    "      \"format\": \"MM/dd/yyyy hh:mm:ss a\"\n",
    "    },\n",
    "    \"Latitude\": {\n",
    "      \"type\": \"float\"\n",
    "    },\n",
    "    \"Longitude\": {\n",
    "      \"type\": \"float\"\n",
    "    },\n",
    "    \"Location\": {\n",
    "      \"type\": \"geo_point\",\n",
    "      \"struct_type\": \"list\"\n",
    "    }\n",
    "  }\n",
    "}\n",
    "\n",
    "with open('crime-config.json', 'w') as f:\n",
    "    f.write(json.dumps(config, indent=2))\n",
    "\n"
   ],
   "metadata": {
    "id": "wEPB1q3mno6H"
   },
   "id": "wEPB1q3mno6H",
   "execution_count": null,
   "outputs": []
  },
  {
   "cell_type": "markdown",
   "metadata": {
    "id": "7RTDkUsr3ead"
   },
   "source": [
    "## 4. Create Collection\n",
    "The Hyerspace engine stores data in Collections, where each collection commonly hosts data of similar context, etc. Each search is then performed within a collection. We create a collection using the command \"**create_collection**(schema_filename, collection_name)\"."
   ],
   "id": "7RTDkUsr3ead"
  },
  {
   "cell_type": "code",
   "source": [
    "collection_name = 'CrimesInChicago'\n",
    "\n",
    "if collection_name not in hyperspace_client.collections_info()[\"collections\"]:\n",
    "  hyperspace_client.create_collection('crime-config.json', collection_name)\n",
    "\n",
    "hyperspace_client.collections_info()\n"
   ],
   "metadata": {
    "colab": {
     "base_uri": "https://localhost:8080/"
    },
    "id": "nAzO0OH7nt6-",
    "outputId": "3ff5f47e-74d2-445e-c4bb-d327d6a328ed"
   },
   "id": "nAzO0OH7nt6-",
   "execution_count": null,
   "outputs": []
  },
  {
   "cell_type": "markdown",
   "metadata": {
    "id": "lUpgHD2VWFXd"
   },
   "source": [
    "# 5. Ingest data\n",
    "\n",
    "In the next step we ingest the dataset in batches of 500 documents. This number can be controlled by the user, and in particular, can be increased in order improve ingestion time. We add batches of data using the command **add_batch**(batch, collection_name)."
   ],
   "id": "lUpgHD2VWFXd"
  },
  {
   "cell_type": "code",
   "source": [
    "data_path = '100k-crimes-dataset-processed_data.json'\n",
    "\n",
    "with open(data_path) as metadata:\n",
    "    BATCH_SIZE = 500\n",
    "\n",
    "    batch = []\n",
    "    for i, metadata_row in enumerate(metadata):\n",
    "        row = {key: value for key, value in json.loads(metadata_row).items() if key in config[\"configuration\"].keys()}\n",
    "        row[\"ID\"] = str(row[\"ID\"])\n",
    "        batch.append(dict(row))\n",
    "\n",
    "        if i % BATCH_SIZE == 0:\n",
    "            response = hyperspace_client.add_batch(batch, collection_name)\n",
    "            batch.clear()\n",
    "            print(i, response)\n",
    "    if batch:\n",
    "        response = hyperspace_client.add_batch(batch, collection_name)\n",
    "        batch.clear()\n",
    "        print(i, response)\n",
    "\n",
    "\n",
    "hyperspace_client.commit(collection_name)\n"
   ],
   "metadata": {
    "id": "qPTZ0a1-mPj2",
    "colab": {
     "base_uri": "https://localhost:8080/"
    },
    "outputId": "ab6f82a9-d5d3-43fa-e660-e8a4420eea1d"
   },
   "id": "qPTZ0a1-mPj2",
   "execution_count": null,
   "outputs": []
  },
  {
   "cell_type": "markdown",
   "metadata": {
    "id": "8lRgTyKwWJ84"
   },
   "source": [
    "## 6. Define Logic and Run a Query\n",
    "We will build a hybrid search query using Hyper-space. In the query,  we will select a document and find similar ones.\n",
    "The score function is given under Crime_Score_Function.py\n"
   ],
   "id": "8lRgTyKwWJ84"
  },
  {
   "cell_type": "code",
   "execution_count": null,
   "metadata": {
    "id": "0YdFBOCsOJka",
    "outputId": "05a6e4cb-c80f-4d16-fc1f-c81e7ce4a0b9",
    "colab": {
     "base_uri": "https://localhost:8080/"
    }
   },
   "outputs": [],
   "source": [
    "from pprint import pprint\n",
    "\n",
    "input_vector = hyperspace_client.get_document(collection_name, \"10224965\")\n",
    "pprint(input_vector)"
   ],
   "id": "0YdFBOCsOJka"
  },
  {
   "cell_type": "markdown",
   "source": [
    "We will use a very simple logic, which matchs the description and location, and make sure case number doesn't match so we won't get back the same result.\n",
    "\n",
    "We use the following logic:\n",
    "\n",
    "\n",
    "*   Match crime description and not case number\n",
    "*   geo_dist match (geo distance)\n",
    "*   Match district and window_match the date\n",
    "*   Match Block\n",
    "\n",
    "Score function can be view in the next block\n",
    "\n",
    "\n",
    "\n"
   ],
   "metadata": {
    "id": "ozeEfW7b6g9Z"
   },
   "id": "ozeEfW7b6g9Z"
  },
  {
   "cell_type": "code",
   "source": [
    "import inspect\n",
    "def set_score_function(func, collection_name, score_function_name='func'):\n",
    "    source = inspect.getsource(func)\n",
    "    with open('sf.py', 'w') as f:\n",
    "        f.write(source)\n",
    "    hyperspace_client.set_function('sf.py', collection_name, score_function_name)\n",
    "\n",
    "\n",
    "def similarity_score(Q, V):\n",
    "    score = 0.0\n",
    "\n",
    "    if match('Description') and not match('Case Number'):\n",
    "        score = rarity_max('Description')\n",
    "        if geo_dist_match('Location',40):\n",
    "            score += 5\n",
    "        if match('District') and window_match('Date', 100, 40):\n",
    "            score -= 5\n",
    "    if match('Block'):\n",
    "        score += rarity_max('Block')\n",
    "    return score\n",
    "\n",
    "set_score_function(similarity_score, collection_name, score_function_name='similarity_score')"
   ],
   "metadata": {
    "id": "GxF-npmSzv8w"
   },
   "id": "GxF-npmSzv8w",
   "execution_count": null,
   "outputs": []
  },
  {
   "cell_type": "code",
   "execution_count": null,
   "metadata": {
    "id": "5ff98e9d",
    "outputId": "b9dae0cd-a275-4938-d3df-66ead42473b3",
    "colab": {
     "base_uri": "https://localhost:8080/"
    }
   },
   "outputs": [],
   "source": [
    "results = hyperspace_client.search({'params': input_vector},\n",
    "                                        size=30,\n",
    "                                        function_name='similarity_score',\n",
    "                                        collection_name=collection_name)\n",
    "print(\"query run time:\", results[\"took_ms\"])\n",
    "for i, result in enumerate(results['similarity']):\n",
    "  vector_api_response = hyperspace_client.get_document(document_id=result['document_id'], collection_name=collection_name)\n",
    "  print(i + 1, \"id\", result['document_id'], \"score = \" , result[\"score\"])\n",
    "\n"
   ],
   "id": "5ff98e9d"
  },
  {
   "cell_type": "markdown",
   "source": [
    "We display the top 30 results. Note that results with similar score are ordered arbitrarily, so more complex logic will likely result in better outcome. In the next step, we will use Hyperspace aggregations to obtain some statistics."
   ],
   "metadata": {
    "id": "EOdmFy7WDBGx"
   },
   "id": "EOdmFy7WDBGx"
  },
  {
   "cell_type": "code",
   "source": [
    "def similarity_score_aggregations(Q, V):\n",
    "    score = 0.0\n",
    "\n",
    "    if match('Description') and not match('Case Number'):\n",
    "        aggregate_count(\"count of cases\")\n",
    "\n",
    "        score = rarity_max('Description')\n",
    "        if geo_dist_match('Location',40):\n",
    "            aggregate_count(\"count of cases in nearby districts\")\n",
    "            score += 5\n",
    "        if match('District') and window_match('Date', 100, 40):\n",
    "            score -= 5\n",
    "    if match('Block'):\n",
    "        score += rarity_max('Block')\n",
    "    return score\n",
    "\n",
    "set_score_function(similarity_score_aggregations, collection_name, score_function_name='similarity_score_aggregations')"
   ],
   "metadata": {
    "id": "T3zQ_oWDiOlX"
   },
   "id": "T3zQ_oWDiOlX",
   "execution_count": null,
   "outputs": []
  },
  {
   "cell_type": "code",
   "source": [
    "results = hyperspace_client.search({'params': input_vector},\n",
    "                                        size=30,\n",
    "                                        function_name='similarity_score_aggregations',\n",
    "                                        collection_name=collection_name)\n",
    "print(\"query run time:\", results[\"took_ms\"])\n",
    "for i, result in enumerate(results['similarity']):\n",
    "  vector_api_response = hyperspace_client.get_document(document_id=result['document_id'], collection_name=collection_name)\n",
    "  print(i + 1, \"id\", result['document_id'], \"score = \" , result[\"score\"])\n",
    "print(\"=\"*30)\n",
    "pprint(results['aggregations'])"
   ],
   "metadata": {
    "id": "TwAlkz09iRtm",
    "outputId": "4cea4ba6-0db8-4835-9fec-5f995cd0e000",
    "colab": {
     "base_uri": "https://localhost:8080/"
    }
   },
   "id": "TwAlkz09iRtm",
   "execution_count": null,
   "outputs": []
  },
  {
   "cell_type": "markdown",
   "source": [
    "For more information, visit us at [Hyperspace](https://www.hyper-space.io/)"
   ],
   "metadata": {
    "id": "mltHy5eKiDmu"
   },
   "id": "mltHy5eKiDmu"
  }
 ],
 "metadata": {
  "colab": {
   "provenance": []
  },
  "kernelspec": {
   "display_name": "Python 3 (ipykernel)",
   "language": "python",
   "name": "python3"
  },
  "language_info": {
   "codemirror_mode": {
    "name": "ipython",
    "version": 3
   },
   "file_extension": ".py",
   "mimetype": "text/x-python",
   "name": "python",
   "nbconvert_exporter": "python",
   "pygments_lexer": "ipython3",
   "version": "3.9.13"
  }
 },
 "nbformat": 4,
 "nbformat_minor": 5
}
