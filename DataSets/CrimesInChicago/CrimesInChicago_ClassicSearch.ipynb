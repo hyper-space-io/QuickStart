{
 "cells": [
  {
   "cell_type": "markdown",
   "id": "X3eWQaOFp2lG",
   "metadata": {
    "id": "X3eWQaOFp2lG"
   },
   "source": [
    "![63f78014766fd30436c18a79_Hyperspace - navbar logo.png](data:image/png;base64,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)"
   ]
  },
  {
   "cell_type": "markdown",
   "id": "1Kone1nET7HS",
   "metadata": {
    "id": "1Kone1nET7HS"
   },
   "source": [
    "# Classic Search With Hyperspace\n",
    "This notebook demonstrates the use of Hyperspace engine for classic search, combining keyword and value matching.\n",
    "For more info, see the [Hyperspace documentation](https://docs.hyper-space.io/hyperspace-docs/getting-started/overview).\n",
    "\n",
    "[![Open In Colab](https://colab.research.google.com/assets/colab-badge.svg)](https://colab.research.google.com/github/hyper-space-io/QuickStart/blob/master/DataSets/CrimesInChicago/CrimesInChicago_ClassicSearch.ipynb)\n",
    "## The Dataset - Crimes In Chicago Dataset\n",
    "From Kaggle:\n",
    "\"This dataset reflects reported incidents of crime (with the exception of murders where data exists for each victim) that occurred in the City of Chicago from 2001 to present, minus the most recent seven days. Data is extracted from the Chicago Police Department's CLEAR (Citizen Law Enforcement Analysis and Reporting) system. In order to protect the privacy of crime victims, addresses are shown at the block level only and specific locations are not identified. This data includes unverified reports supplied to the Police Department. The preliminary crime classifications may be changed at a later date based upon additional investigation and there is always the possibility of mechanical or human error. Therefore, the Chicago Police Department does not guarantee (either expressed or implied) the accuracy, completeness, timeliness, or correct sequencing of the information and the information should not be used for comparison purposes over time.\"\n",
    "\n",
    "The [dataset](https://www.kaggle.com/datasets/chicago/chicago-crime) can be downloaded from [Hyperspace git](https://github.com/hyper-space-io/QuickStart/blob/main/DataSets/CrimesInChicago/100k-crimes-dataset-processed_data.zip).\n",
    "\n",
    "## The Dataset Fields\n",
    "1. **Case Number {'type': 'keyword'}** - The Chicago Police Department RD Number (Records Division Number), which is unique to the incident.\n",
    "2. **Date {'type': 'date', 'format': 'MM/dd/yyyy hh:mm:ss a'}** - Date when the incident occurred. this is sometimes a best estimate.\n",
    "3. **Block {'type 'keyword'}** -The partially redacted address where the incident occurred, placing it on the same block as the actual address.\n",
    "4. **IUCR {'type 'keyword'}** - The Illinois Unifrom Crime Reporting code. This is directly linked to the Primary Type and Description. See the list of IUCR codes at https://data.cityofchicago.org/d/c7ck-438e.\n",
    "5. **Primary Type {'type 'keyword'}** - The primary description of the IUCR code.\n",
    "6. **Description {'type 'keyword'}** - The secondary description of the IUCR code, a subcategory of the primary description.\n",
    "7. **Location Description {'type 'keyword'}** - Description of the location where the incident occurred.\n",
    "8. **Arrest {'type 'boolean'}** - Indicates whether an arrest was made.\n",
    "9. **Domestic {'type 'boolean'}** - Indicates whether the incident was domestic-related as defined by the Illinois Domestic Violence Act.\n",
    "10. **Beat {'type 'integer'}** - Indicates the beat where the incident occurred. A beat is the smallest police geographic area – each beat has a dedicated police beat car. Three to five beats make up a police sector, and three sectors make up a police district. The Chicago Police Department has 22 police districts. See the beats at https://data.cityofchicago.org/d/aerh-rz74.\n",
    "11. **District {'type 'integer'}** - Indicates the police district where the incident occurred. See the districts at https://data.cityofchicago.org/d/fthy-xz3r.\n",
    "12. **Ward {'type 'integer'}** - The ward (City Council district) where the incident occurred. See the wards at https://data.cityofchicago.org/d/sp34-6z76.\n",
    "13. **Community Area {'type 'integer'}** - Indicates the community area where the incident occurred. Chicago has 77 community areas. See the community areas at https://data.cityofchicago.org/d/cauq-8yn6.\n",
    "14. **FBI Code {'type 'keyword'}** - Indicates the crime classification as outlined in the FBI's National Incident-Based Reporting System (NIBRS). See the Chicago Police Department listing of these classifications at http://gis.chicagopolice.org/clearmap_crime_sums/crime_types.html.\n",
    "15. **X Coordinate {'type 'integer'}** - The x coordinate of the location where the incident occurred in State Plane Illinois East NAD 1983 projection. This location is shifted from the actual location for partial redaction but falls on the same block.\n",
    "16. **Y Coordinate {'type 'integer'}** - The y coordinate of the location where the incident occurred in State Plane Illinois East NAD 1983 projection. This location is shifted from the actual location for partial redaction but falls on the same block.\n",
    "17. **Year {'type 'integer'}** - Year the incident occurred.\n",
    "18. **Updated On {'type 'date', 'format 'MM/dd/yyyy hh:mm:ss a'}** - Date and time the record was last updated.\n",
    "19. **Latitude {'type 'float'}** - The latitude of the location where the incident occurred. This location is shifted from the actual location for partial redaction but falls on the same block.\n",
    "20. **Longitude {'type 'float'}** - The longitude of the location where the incident occurred. This location is shifted from the actual location for partial redaction but falls on the same block.\n",
    "21. **Location {'type 'geo_point', 'struct_type 'list'}** - The location where the incident occurred in a format that allows for creation of maps and other geographic operations on this data portal. This location is shifted from the actual location for partial redaction but falls on the same block."
   ]
  },
  {
   "cell_type": "markdown",
   "id": "QHPcXuhkq4uN",
   "metadata": {
    "id": "QHPcXuhkq4uN"
   },
   "source": [
    "\n",
    "# Setting up the Hyperspace Environment\n",
    "Setting up the environment and running the query includes the following steps\n",
    "1. Download and install the client API\n",
    "2. Connect to a server\n",
    "3. Create data schema file\n",
    "4. Create collection\n",
    "5. Ingest data\n",
    "6. Run query"
   ]
  },
  {
   "cell_type": "markdown",
   "id": "SZwFmp6tVLZ_",
   "metadata": {
    "id": "SZwFmp6tVLZ_"
   },
   "source": [
    "## 1. Install the Hyperspace client API\n",
    "Hyperspace API can be installed directly from git, using the following command:"
   ]
  },
  {
   "cell_type": "code",
   "execution_count": 1,
   "id": "l1DTYoFb1vnF",
   "metadata": {
    "ExecuteTime": {
     "end_time": "2024-01-03T12:59:27.200146500Z",
     "start_time": "2024-01-03T12:59:20.166207100Z"
    },
    "colab": {
     "base_uri": "https://localhost:8080/"
    },
    "id": "l1DTYoFb1vnF",
    "outputId": "fec68637-8582-46fa-89e9-2720a731a9cc"
   },
   "outputs": [],
   "source": [
    "#!pip uninstall hyperspace\n",
    "#!pip install git+https://github.com/hyper-space-io/hyperspace-py"
   ]
  },
  {
   "cell_type": "markdown",
   "id": "4f62a8a6",
   "metadata": {},
   "source": [
    "### Supporting functions"
   ]
  },
  {
   "cell_type": "code",
   "execution_count": 2,
   "id": "02a40190",
   "metadata": {},
   "outputs": [
    {
     "name": "stdout",
     "output_type": "stream",
     "text": [
      "here\n"
     ]
    }
   ],
   "source": [
    "\n",
    "import support_functions as sfunc\n",
    "import support_percentile as sperc\n",
    "\n",
    "\n",
    "# print(globals())\n",
    "\n"
   ]
  },
  {
   "cell_type": "markdown",
   "id": "e9053cb5ddb9badb",
   "metadata": {},
   "source": [
    "### Download dataset"
   ]
  },
  {
   "cell_type": "code",
   "execution_count": 3,
   "id": "363dc2a1498d9fce",
   "metadata": {
    "ExecuteTime": {
     "end_time": "2024-01-03T13:13:00.876533Z",
     "start_time": "2024-01-03T13:12:56.193951Z"
    }
   },
   "outputs": [
    {
     "name": "stdout",
     "output_type": "stream",
     "text": [
      "The file ./100k-crimes-dataset-processed_data.zip already exists and is not empty.\n",
      "Success! Files have been extracted to ./\n"
     ]
    }
   ],
   "source": [
    "\n",
    "data_url = \"https://hyperspace-datasets.s3.eu-central-1.amazonaws.com/100k-crimes-dataset-processed_data.zip\"\n",
    "sfunc.download_data(data_url, \"./100k-crimes-dataset-processed_data.zip\")\n",
    "sfunc.unzip_file(\"./100k-crimes-dataset-processed_data.zip\")\n"
   ]
  },
  {
   "cell_type": "markdown",
   "id": "TCZSwM6DVeDm",
   "metadata": {
    "id": "TCZSwM6DVeDm"
   },
   "source": [
    "## 2. Connect to the server\n",
    "\n",
    "Once the Hyperspace API is installed, the database can be accessed by creating a local instance of the Hyperspace client. This step requires host address, username and password."
   ]
  },
  {
   "cell_type": "code",
   "execution_count": 4,
   "id": "8NVXuwyozUi7",
   "metadata": {
    "ExecuteTime": {
     "end_time": "2024-01-01T19:47:50.381706500Z",
     "start_time": "2024-01-01T19:47:49.201122400Z"
    },
    "id": "8NVXuwyozUi7"
   },
   "outputs": [
    {
     "name": "stdout",
     "output_type": "stream",
     "text": [
      "<hyperspace.hyperspace_client.HyperspaceClientApi object at 0x00000199C4245A00>\n"
     ]
    }
   ],
   "source": [
    "\n",
    "import hyperspace\n",
    "from getpass import getpass\n",
    "\n",
    "username    = \"maxn@hyper-space.io\"\n",
    "host        = \"https://trial.prod.hyper-space.xyz/\"\n",
    "my_password = \"Mn123456#\"\n",
    "\n",
    "hyperspace_client = hyperspace.HyperspaceClientApi(host=host, username=username, password=my_password)\n",
    "# hyperspace_client = hyperspace.HyperspaceClientApi(host=host, username=username, password=getpass())\n",
    "print(hyperspace_client)\n"
   ]
  },
  {
   "cell_type": "markdown",
   "id": "1rxCqQ58kuzL",
   "metadata": {
    "id": "1rxCqQ58kuzL"
   },
   "source": [
    "We check the status before proceeding, also delete collection if exist ... "
   ]
  },
  {
   "cell_type": "code",
   "execution_count": 5,
   "id": "cH_lWsLLza0n",
   "metadata": {
    "ExecuteTime": {
     "end_time": "2024-01-01T19:47:50.630929900Z",
     "start_time": "2024-01-01T19:47:50.383712Z"
    },
    "colab": {
     "base_uri": "https://localhost:8080/",
     "height": 72
    },
    "id": "cH_lWsLLza0n",
    "outputId": "fb19b7c2-e567-411f-dff9-43f9adc6d13a"
   },
   "outputs": [
    {
     "name": "stdout",
     "output_type": "stream",
     "text": [
      "{'collections': {'CrimesInChicago': {'creation_time': '2024-01-15T10:26:45Z',\n",
      "                                     'last_query_time': '2024-01-15T13:59:09Z',\n",
      "                                     'size': 100000}}}\n",
      "{'collections': {}}\n"
     ]
    }
   ],
   "source": [
    "collections_info = hyperspace_client.collections_info()\n",
    "sfunc.pprint(collections_info)\n",
    "if 'CrimesInChicago' in collections_info['collections'] :\n",
    "    collections_info = hyperspace_client.delete_collection('CrimesInChicago')\n",
    "    collections_info = hyperspace_client.collections_info()\n",
    "    sfunc.pprint(collections_info)\n",
    "\n"
   ]
  },
  {
   "cell_type": "code",
   "execution_count": null,
   "id": "d4a2896f",
   "metadata": {},
   "outputs": [],
   "source": []
  },
  {
   "cell_type": "code",
   "execution_count": 6,
   "id": "d74ea547",
   "metadata": {},
   "outputs": [
    {
     "name": "stdout",
     "output_type": "stream",
     "text": [
      "1705328236.0049107\n",
      "1705328236.0059083\n",
      "1705328236005908100\n",
      "fired  1000 queries in delta    15.180 seconds, qps =   65.876\n"
     ]
    }
   ],
   "source": [
    "import time\n",
    "t_start = time.time()\n",
    "print(t_start)\n",
    "t_start = time.time()\n",
    "print(t_start)\n",
    "t_start = time.time_ns()\n",
    "print(str(t_start))\n",
    "\n",
    "start = time.time_ns()\n",
    "\n",
    "for i in range(1000) :\n",
    "    time.sleep(0.005)\n",
    "    # t_start = time.time_ns()\n",
    "    # print(str(t_start))\n",
    "\n",
    "stop = time.time_ns()\n",
    "    \n",
    "q_count = i+1\n",
    "delta = stop - start\n",
    "print(\"fired %5d queries in delta  %8.3f seconds, qps = %8.3f\" % ( q_count,  delta*1e-9, q_count/(delta*1e-9)) )\n",
    "    "
   ]
  },
  {
   "cell_type": "markdown",
   "id": "HXmdh3YGVfQV",
   "metadata": {
    "id": "HXmdh3YGVfQV"
   },
   "source": [
    "## 3. Create a Data Schema File\n",
    "\n",
    "Similarly to other search databases, Hyper-Space database requires a configuration file that outlines the data schema. Here, we create a config file that corresponds to the fields of the given dataset.\n",
    "\n",
    "For vector fields, we also provide the index type to be used, and the metric. . Current options for index include \"**brute_force**\", \"**hnsw**\", \"**ivf**\", and \"**bin_ivf**\" for binary vectors, and \"**IP**\" (inner product) as a metric for floating point vectors and \"**Hamming**\" ([hamming distance](https://en.wikipedia.org/wiki/Hamming_distance)) for binary vectors.\n",
    "Note that the key 'low_cardinality' enables faster search for low cardinality fields."
   ]
  },
  {
   "cell_type": "code",
   "execution_count": 7,
   "id": "wEPB1q3mno6H",
   "metadata": {
    "ExecuteTime": {
     "end_time": "2024-01-01T19:47:50.673577300Z",
     "start_time": "2024-01-01T19:47:50.635904500Z"
    },
    "id": "wEPB1q3mno6H"
   },
   "outputs": [],
   "source": [
    "\n",
    "\n",
    "config = {\n",
    "  \"configuration\": {\n",
    "    \"ID\": {\n",
    "      \"type\": \"keyword\",\n",
    "      \"id\": True\n",
    "    },\n",
    "    \"Case Number\": {\n",
    "      \"type\": \"keyword\"\n",
    "    },\n",
    "    \"Date\": {\n",
    "      \"type\": \"date\",\n",
    "      \"format\": \"MM/dd/yyyy hh:mm:ss a\"\n",
    "    },\n",
    "    \"Block\": {\n",
    "      \"type\": \"keyword\"\n",
    "    },\n",
    "    \"IUCR\": {\n",
    "      \"type\": \"keyword\"\n",
    "    },\n",
    "    \"Primary Type\": {\n",
    "      \"type\": \"keyword\"\n",
    "    },\n",
    "    \"Description\": {\n",
    "      \"type\": \"keyword\"\n",
    "    },\n",
    "    \"Location Description\": {\n",
    "      \"type\": \"keyword\"\n",
    "    },\n",
    "    \"Arrest\": {\n",
    "      \"type\": \"boolean\"\n",
    "    },\n",
    "    \"Domestic\": {\n",
    "      \"type\": \"boolean\"\n",
    "    },\n",
    "    \"Beat\": {\n",
    "      \"type\": \"integer\"\n",
    "    },\n",
    "    \"District\": {\n",
    "      \"type\": \"integer\"\n",
    "    },\n",
    "    \"Ward\": {\n",
    "      \"type\": \"integer\"\n",
    "    },\n",
    "    \"Community Area\": {\n",
    "      \"type\": \"integer\"\n",
    "    },\n",
    "    \"FBI Code\": {\n",
    "      \"type\": \"keyword\"\n",
    "    },\n",
    "    \"X Coordinate\": {\n",
    "      \"type\": \"integer\"\n",
    "    },\n",
    "    \"Y Coordinate\": {\n",
    "      \"type\": \"integer\"\n",
    "    },\n",
    "    \"Year\": {\n",
    "      \"type\": \"integer\"\n",
    "    },\n",
    "    \"Updated On\": {\n",
    "      \"type\": \"date\",\n",
    "      \"format\": \"MM/dd/yyyy hh:mm:ss a\"\n",
    "    },\n",
    "    \"Latitude\": {\n",
    "      \"type\": \"float\"\n",
    "    },\n",
    "    \"Longitude\": {\n",
    "      \"type\": \"float\"\n",
    "    },\n",
    "    \"Location\": {\n",
    "      \"type\": \"geo_point\",\n",
    "      \"struct_type\": \"list\"\n",
    "    }\n",
    "  }\n",
    "}\n",
    "\n",
    "with open('crime-config.json', 'w') as f:\n",
    "    f.write(sfunc.json.dumps(config, indent=2))\n",
    "\n"
   ]
  },
  {
   "cell_type": "markdown",
   "id": "7RTDkUsr3ead",
   "metadata": {
    "id": "7RTDkUsr3ead"
   },
   "source": [
    "## 4. Create Collection\n",
    "The Hyerspace engine stores data in Collections, where each collection commonly hosts data of similar context, etc. Each search is then performed within a collection. We create a collection using the command \"**create_collection**(schema_filename, collection_name)\"."
   ]
  },
  {
   "cell_type": "code",
   "execution_count": 8,
   "id": "nAzO0OH7nt6-",
   "metadata": {
    "ExecuteTime": {
     "end_time": "2024-01-01T19:47:50.803106500Z",
     "start_time": "2024-01-01T19:47:50.647905300Z"
    },
    "colab": {
     "base_uri": "https://localhost:8080/"
    },
    "id": "nAzO0OH7nt6-",
    "outputId": "3ff5f47e-74d2-445e-c4bb-d327d6a328ed"
   },
   "outputs": [
    {
     "data": {
      "text/plain": [
       "{'collections': {'CrimesInChicago': {'creation_time': '2024-01-15T14:17:31Z',\n",
       "   'size': 0}}}"
      ]
     },
     "execution_count": 8,
     "metadata": {},
     "output_type": "execute_result"
    }
   ],
   "source": [
    "collection_name = 'CrimesInChicago'\n",
    "\n",
    "if collection_name not in hyperspace_client.collections_info()[\"collections\"]:\n",
    "  hyperspace_client.create_collection('crime-config.json', collection_name)\n",
    "\n",
    "hyperspace_client.collections_info()\n"
   ]
  },
  {
   "cell_type": "markdown",
   "id": "lUpgHD2VWFXd",
   "metadata": {
    "id": "lUpgHD2VWFXd"
   },
   "source": [
    "# 5. Ingest data\n",
    "\n",
    "In the next step we ingest the dataset in batches of 500 documents. This number can be controlled by the user, and in particular, can be increased in order improve ingestion time. We add batches of data using the command **add_batch**(batch, collection_name)."
   ]
  },
  {
   "cell_type": "code",
   "execution_count": 9,
   "id": "qPTZ0a1-mPj2",
   "metadata": {
    "ExecuteTime": {
     "end_time": "2024-01-01T19:48:23.707676100Z",
     "start_time": "2024-01-01T19:47:50.807039800Z"
    },
    "colab": {
     "base_uri": "https://localhost:8080/"
    },
    "id": "qPTZ0a1-mPj2",
    "outputId": "ab6f82a9-d5d3-43fa-e660-e8a4420eea1d",
    "scrolled": false
   },
   "outputs": [
    {
     "name": "stdout",
     "output_type": "stream",
     "text": [
      "0 {'code': 200,\n",
      " 'message': 'Batch successfully added',\n",
      " 'status': 'HTTP/1.1 200 OK'}\n",
      "500 {'code': 200,\n",
      " 'message': 'Batch successfully added',\n",
      " 'status': 'HTTP/1.1 200 OK'}\n",
      "1000 {'code': 200,\n",
      " 'message': 'Batch successfully added',\n",
      " 'status': 'HTTP/1.1 200 OK'}\n",
      "1500 {'code': 200,\n",
      " 'message': 'Batch successfully added',\n",
      " 'status': 'HTTP/1.1 200 OK'}\n",
      "2000 {'code': 200,\n",
      " 'message': 'Batch successfully added',\n",
      " 'status': 'HTTP/1.1 200 OK'}\n",
      "2500 {'code': 200,\n",
      " 'message': 'Batch successfully added',\n",
      " 'status': 'HTTP/1.1 200 OK'}\n",
      "3000 {'code': 200,\n",
      " 'message': 'Batch successfully added',\n",
      " 'status': 'HTTP/1.1 200 OK'}\n",
      "3500 {'code': 200,\n",
      " 'message': 'Batch successfully added',\n",
      " 'status': 'HTTP/1.1 200 OK'}\n",
      "4000 {'code': 200,\n",
      " 'message': 'Batch successfully added',\n",
      " 'status': 'HTTP/1.1 200 OK'}\n",
      "4500 {'code': 200,\n",
      " 'message': 'Batch successfully added',\n",
      " 'status': 'HTTP/1.1 200 OK'}\n",
      "5000 {'code': 200,\n",
      " 'message': 'Batch successfully added',\n",
      " 'status': 'HTTP/1.1 200 OK'}\n",
      "5500 {'code': 200,\n",
      " 'message': 'Batch successfully added',\n",
      " 'status': 'HTTP/1.1 200 OK'}\n",
      "6000 {'code': 200,\n",
      " 'message': 'Batch successfully added',\n",
      " 'status': 'HTTP/1.1 200 OK'}\n",
      "6500 {'code': 200,\n",
      " 'message': 'Batch successfully added',\n",
      " 'status': 'HTTP/1.1 200 OK'}\n",
      "7000 {'code': 200,\n",
      " 'message': 'Batch successfully added',\n",
      " 'status': 'HTTP/1.1 200 OK'}\n",
      "7500 {'code': 200,\n",
      " 'message': 'Batch successfully added',\n",
      " 'status': 'HTTP/1.1 200 OK'}\n",
      "8000 {'code': 200,\n",
      " 'message': 'Batch successfully added',\n",
      " 'status': 'HTTP/1.1 200 OK'}\n",
      "8500 {'code': 200,\n",
      " 'message': 'Batch successfully added',\n",
      " 'status': 'HTTP/1.1 200 OK'}\n",
      "9000 {'code': 200,\n",
      " 'message': 'Batch successfully added',\n",
      " 'status': 'HTTP/1.1 200 OK'}\n",
      "9500 {'code': 200,\n",
      " 'message': 'Batch successfully added',\n",
      " 'status': 'HTTP/1.1 200 OK'}\n",
      "10000 {'code': 200,\n",
      " 'message': 'Batch successfully added',\n",
      " 'status': 'HTTP/1.1 200 OK'}\n",
      "10500 {'code': 200,\n",
      " 'message': 'Batch successfully added',\n",
      " 'status': 'HTTP/1.1 200 OK'}\n",
      "11000 {'code': 200,\n",
      " 'message': 'Batch successfully added',\n",
      " 'status': 'HTTP/1.1 200 OK'}\n",
      "11500 {'code': 200,\n",
      " 'message': 'Batch successfully added',\n",
      " 'status': 'HTTP/1.1 200 OK'}\n",
      "12000 {'code': 200,\n",
      " 'message': 'Batch successfully added',\n",
      " 'status': 'HTTP/1.1 200 OK'}\n",
      "12500 {'code': 200,\n",
      " 'message': 'Batch successfully added',\n",
      " 'status': 'HTTP/1.1 200 OK'}\n",
      "13000 {'code': 200,\n",
      " 'message': 'Batch successfully added',\n",
      " 'status': 'HTTP/1.1 200 OK'}\n",
      "13500 {'code': 200,\n",
      " 'message': 'Batch successfully added',\n",
      " 'status': 'HTTP/1.1 200 OK'}\n",
      "14000 {'code': 200,\n",
      " 'message': 'Batch successfully added',\n",
      " 'status': 'HTTP/1.1 200 OK'}\n",
      "14500 {'code': 200,\n",
      " 'message': 'Batch successfully added',\n",
      " 'status': 'HTTP/1.1 200 OK'}\n",
      "15000 {'code': 200,\n",
      " 'message': 'Batch successfully added',\n",
      " 'status': 'HTTP/1.1 200 OK'}\n",
      "15500 {'code': 200,\n",
      " 'message': 'Batch successfully added',\n",
      " 'status': 'HTTP/1.1 200 OK'}\n",
      "16000 {'code': 200,\n",
      " 'message': 'Batch successfully added',\n",
      " 'status': 'HTTP/1.1 200 OK'}\n",
      "16500 {'code': 200,\n",
      " 'message': 'Batch successfully added',\n",
      " 'status': 'HTTP/1.1 200 OK'}\n",
      "17000 {'code': 200,\n",
      " 'message': 'Batch successfully added',\n",
      " 'status': 'HTTP/1.1 200 OK'}\n",
      "17500 {'code': 200,\n",
      " 'message': 'Batch successfully added',\n",
      " 'status': 'HTTP/1.1 200 OK'}\n",
      "18000 {'code': 200,\n",
      " 'message': 'Batch successfully added',\n",
      " 'status': 'HTTP/1.1 200 OK'}\n",
      "18500 {'code': 200,\n",
      " 'message': 'Batch successfully added',\n",
      " 'status': 'HTTP/1.1 200 OK'}\n",
      "19000 {'code': 200,\n",
      " 'message': 'Batch successfully added',\n",
      " 'status': 'HTTP/1.1 200 OK'}\n",
      "19500 {'code': 200,\n",
      " 'message': 'Batch successfully added',\n",
      " 'status': 'HTTP/1.1 200 OK'}\n",
      "20000 {'code': 200,\n",
      " 'message': 'Batch successfully added',\n",
      " 'status': 'HTTP/1.1 200 OK'}\n",
      "20500 {'code': 200,\n",
      " 'message': 'Batch successfully added',\n",
      " 'status': 'HTTP/1.1 200 OK'}\n",
      "21000 {'code': 200,\n",
      " 'message': 'Batch successfully added',\n",
      " 'status': 'HTTP/1.1 200 OK'}\n",
      "21500 {'code': 200,\n",
      " 'message': 'Batch successfully added',\n",
      " 'status': 'HTTP/1.1 200 OK'}\n",
      "22000 {'code': 200,\n",
      " 'message': 'Batch successfully added',\n",
      " 'status': 'HTTP/1.1 200 OK'}\n",
      "22500 {'code': 200,\n",
      " 'message': 'Batch successfully added',\n",
      " 'status': 'HTTP/1.1 200 OK'}\n",
      "23000 {'code': 200,\n",
      " 'message': 'Batch successfully added',\n",
      " 'status': 'HTTP/1.1 200 OK'}\n",
      "23500 {'code': 200,\n",
      " 'message': 'Batch successfully added',\n",
      " 'status': 'HTTP/1.1 200 OK'}\n",
      "24000 {'code': 200,\n",
      " 'message': 'Batch successfully added',\n",
      " 'status': 'HTTP/1.1 200 OK'}\n",
      "24500 {'code': 200,\n",
      " 'message': 'Batch successfully added',\n",
      " 'status': 'HTTP/1.1 200 OK'}\n",
      "25000 {'code': 200,\n",
      " 'message': 'Batch successfully added',\n",
      " 'status': 'HTTP/1.1 200 OK'}\n",
      "25500 {'code': 200,\n",
      " 'message': 'Batch successfully added',\n",
      " 'status': 'HTTP/1.1 200 OK'}\n",
      "26000 {'code': 200,\n",
      " 'message': 'Batch successfully added',\n",
      " 'status': 'HTTP/1.1 200 OK'}\n",
      "26500 {'code': 200,\n",
      " 'message': 'Batch successfully added',\n",
      " 'status': 'HTTP/1.1 200 OK'}\n",
      "27000 {'code': 200,\n",
      " 'message': 'Batch successfully added',\n",
      " 'status': 'HTTP/1.1 200 OK'}\n",
      "27500 {'code': 200,\n",
      " 'message': 'Batch successfully added',\n",
      " 'status': 'HTTP/1.1 200 OK'}\n",
      "28000 {'code': 200,\n",
      " 'message': 'Batch successfully added',\n",
      " 'status': 'HTTP/1.1 200 OK'}\n",
      "28500 {'code': 200,\n",
      " 'message': 'Batch successfully added',\n",
      " 'status': 'HTTP/1.1 200 OK'}\n",
      "29000 {'code': 200,\n",
      " 'message': 'Batch successfully added',\n",
      " 'status': 'HTTP/1.1 200 OK'}\n",
      "29500 {'code': 200,\n",
      " 'message': 'Batch successfully added',\n",
      " 'status': 'HTTP/1.1 200 OK'}\n",
      "30000 {'code': 200,\n",
      " 'message': 'Batch successfully added',\n",
      " 'status': 'HTTP/1.1 200 OK'}\n",
      "30500 {'code': 200,\n",
      " 'message': 'Batch successfully added',\n",
      " 'status': 'HTTP/1.1 200 OK'}\n",
      "31000 {'code': 200,\n",
      " 'message': 'Batch successfully added',\n",
      " 'status': 'HTTP/1.1 200 OK'}\n",
      "31500 {'code': 200,\n",
      " 'message': 'Batch successfully added',\n",
      " 'status': 'HTTP/1.1 200 OK'}\n",
      "32000 {'code': 200,\n",
      " 'message': 'Batch successfully added',\n",
      " 'status': 'HTTP/1.1 200 OK'}\n",
      "32500 {'code': 200,\n",
      " 'message': 'Batch successfully added',\n",
      " 'status': 'HTTP/1.1 200 OK'}\n",
      "33000 {'code': 200,\n",
      " 'message': 'Batch successfully added',\n",
      " 'status': 'HTTP/1.1 200 OK'}\n",
      "33500 {'code': 200,\n",
      " 'message': 'Batch successfully added',\n",
      " 'status': 'HTTP/1.1 200 OK'}\n",
      "34000 {'code': 200,\n",
      " 'message': 'Batch successfully added',\n",
      " 'status': 'HTTP/1.1 200 OK'}\n",
      "34500 {'code': 200,\n",
      " 'message': 'Batch successfully added',\n",
      " 'status': 'HTTP/1.1 200 OK'}\n",
      "35000 {'code': 200,\n",
      " 'message': 'Batch successfully added',\n",
      " 'status': 'HTTP/1.1 200 OK'}\n",
      "35500 {'code': 200,\n",
      " 'message': 'Batch successfully added',\n",
      " 'status': 'HTTP/1.1 200 OK'}\n",
      "36000 {'code': 200,\n",
      " 'message': 'Batch successfully added',\n",
      " 'status': 'HTTP/1.1 200 OK'}\n",
      "36500 {'code': 200,\n",
      " 'message': 'Batch successfully added',\n",
      " 'status': 'HTTP/1.1 200 OK'}\n",
      "37000 {'code': 200,\n",
      " 'message': 'Batch successfully added',\n",
      " 'status': 'HTTP/1.1 200 OK'}\n",
      "37500 {'code': 200,\n",
      " 'message': 'Batch successfully added',\n",
      " 'status': 'HTTP/1.1 200 OK'}\n",
      "38000 {'code': 200,\n",
      " 'message': 'Batch successfully added',\n",
      " 'status': 'HTTP/1.1 200 OK'}\n",
      "38500 {'code': 200,\n",
      " 'message': 'Batch successfully added',\n",
      " 'status': 'HTTP/1.1 200 OK'}\n",
      "39000 {'code': 200,\n",
      " 'message': 'Batch successfully added',\n",
      " 'status': 'HTTP/1.1 200 OK'}\n",
      "39500 {'code': 200,\n",
      " 'message': 'Batch successfully added',\n",
      " 'status': 'HTTP/1.1 200 OK'}\n",
      "40000 {'code': 200,\n",
      " 'message': 'Batch successfully added',\n",
      " 'status': 'HTTP/1.1 200 OK'}\n",
      "40500 {'code': 200,\n",
      " 'message': 'Batch successfully added',\n",
      " 'status': 'HTTP/1.1 200 OK'}\n",
      "41000 {'code': 200,\n",
      " 'message': 'Batch successfully added',\n",
      " 'status': 'HTTP/1.1 200 OK'}\n",
      "41500 {'code': 200,\n",
      " 'message': 'Batch successfully added',\n",
      " 'status': 'HTTP/1.1 200 OK'}\n",
      "42000 {'code': 200,\n",
      " 'message': 'Batch successfully added',\n",
      " 'status': 'HTTP/1.1 200 OK'}\n",
      "42500 {'code': 200,\n",
      " 'message': 'Batch successfully added',\n",
      " 'status': 'HTTP/1.1 200 OK'}\n",
      "43000 {'code': 200,\n",
      " 'message': 'Batch successfully added',\n",
      " 'status': 'HTTP/1.1 200 OK'}\n",
      "43500 {'code': 200,\n",
      " 'message': 'Batch successfully added',\n",
      " 'status': 'HTTP/1.1 200 OK'}\n",
      "44000 {'code': 200,\n",
      " 'message': 'Batch successfully added',\n",
      " 'status': 'HTTP/1.1 200 OK'}\n",
      "44500 {'code': 200,\n",
      " 'message': 'Batch successfully added',\n",
      " 'status': 'HTTP/1.1 200 OK'}\n",
      "45000 {'code': 200,\n",
      " 'message': 'Batch successfully added',\n",
      " 'status': 'HTTP/1.1 200 OK'}\n",
      "45500 {'code': 200,\n",
      " 'message': 'Batch successfully added',\n",
      " 'status': 'HTTP/1.1 200 OK'}\n"
     ]
    },
    {
     "name": "stdout",
     "output_type": "stream",
     "text": [
      "46000 {'code': 200,\n",
      " 'message': 'Batch successfully added',\n",
      " 'status': 'HTTP/1.1 200 OK'}\n",
      "46500 {'code': 200,\n",
      " 'message': 'Batch successfully added',\n",
      " 'status': 'HTTP/1.1 200 OK'}\n",
      "47000 {'code': 200,\n",
      " 'message': 'Batch successfully added',\n",
      " 'status': 'HTTP/1.1 200 OK'}\n",
      "47500 {'code': 200,\n",
      " 'message': 'Batch successfully added',\n",
      " 'status': 'HTTP/1.1 200 OK'}\n",
      "48000 {'code': 200,\n",
      " 'message': 'Batch successfully added',\n",
      " 'status': 'HTTP/1.1 200 OK'}\n",
      "48500 {'code': 200,\n",
      " 'message': 'Batch successfully added',\n",
      " 'status': 'HTTP/1.1 200 OK'}\n",
      "49000 {'code': 200,\n",
      " 'message': 'Batch successfully added',\n",
      " 'status': 'HTTP/1.1 200 OK'}\n",
      "49500 {'code': 200,\n",
      " 'message': 'Batch successfully added',\n",
      " 'status': 'HTTP/1.1 200 OK'}\n",
      "50000 {'code': 200,\n",
      " 'message': 'Batch successfully added',\n",
      " 'status': 'HTTP/1.1 200 OK'}\n",
      "50500 {'code': 200,\n",
      " 'message': 'Batch successfully added',\n",
      " 'status': 'HTTP/1.1 200 OK'}\n",
      "51000 {'code': 200,\n",
      " 'message': 'Batch successfully added',\n",
      " 'status': 'HTTP/1.1 200 OK'}\n",
      "51500 {'code': 200,\n",
      " 'message': 'Batch successfully added',\n",
      " 'status': 'HTTP/1.1 200 OK'}\n",
      "52000 {'code': 200,\n",
      " 'message': 'Batch successfully added',\n",
      " 'status': 'HTTP/1.1 200 OK'}\n",
      "52500 {'code': 200,\n",
      " 'message': 'Batch successfully added',\n",
      " 'status': 'HTTP/1.1 200 OK'}\n",
      "53000 {'code': 200,\n",
      " 'message': 'Batch successfully added',\n",
      " 'status': 'HTTP/1.1 200 OK'}\n",
      "53500 {'code': 200,\n",
      " 'message': 'Batch successfully added',\n",
      " 'status': 'HTTP/1.1 200 OK'}\n",
      "54000 {'code': 200,\n",
      " 'message': 'Batch successfully added',\n",
      " 'status': 'HTTP/1.1 200 OK'}\n",
      "54500 {'code': 200,\n",
      " 'message': 'Batch successfully added',\n",
      " 'status': 'HTTP/1.1 200 OK'}\n",
      "55000 {'code': 200,\n",
      " 'message': 'Batch successfully added',\n",
      " 'status': 'HTTP/1.1 200 OK'}\n",
      "55500 {'code': 200,\n",
      " 'message': 'Batch successfully added',\n",
      " 'status': 'HTTP/1.1 200 OK'}\n",
      "56000 {'code': 200,\n",
      " 'message': 'Batch successfully added',\n",
      " 'status': 'HTTP/1.1 200 OK'}\n",
      "56500 {'code': 200,\n",
      " 'message': 'Batch successfully added',\n",
      " 'status': 'HTTP/1.1 200 OK'}\n",
      "57000 {'code': 200,\n",
      " 'message': 'Batch successfully added',\n",
      " 'status': 'HTTP/1.1 200 OK'}\n",
      "57500 {'code': 200,\n",
      " 'message': 'Batch successfully added',\n",
      " 'status': 'HTTP/1.1 200 OK'}\n",
      "58000 {'code': 200,\n",
      " 'message': 'Batch successfully added',\n",
      " 'status': 'HTTP/1.1 200 OK'}\n",
      "58500 {'code': 200,\n",
      " 'message': 'Batch successfully added',\n",
      " 'status': 'HTTP/1.1 200 OK'}\n",
      "59000 {'code': 200,\n",
      " 'message': 'Batch successfully added',\n",
      " 'status': 'HTTP/1.1 200 OK'}\n",
      "59500 {'code': 200,\n",
      " 'message': 'Batch successfully added',\n",
      " 'status': 'HTTP/1.1 200 OK'}\n",
      "60000 {'code': 200,\n",
      " 'message': 'Batch successfully added',\n",
      " 'status': 'HTTP/1.1 200 OK'}\n",
      "60500 {'code': 200,\n",
      " 'message': 'Batch successfully added',\n",
      " 'status': 'HTTP/1.1 200 OK'}\n",
      "61000 {'code': 200,\n",
      " 'message': 'Batch successfully added',\n",
      " 'status': 'HTTP/1.1 200 OK'}\n",
      "61500 {'code': 200,\n",
      " 'message': 'Batch successfully added',\n",
      " 'status': 'HTTP/1.1 200 OK'}\n",
      "62000 {'code': 200,\n",
      " 'message': 'Batch successfully added',\n",
      " 'status': 'HTTP/1.1 200 OK'}\n",
      "62500 {'code': 200,\n",
      " 'message': 'Batch successfully added',\n",
      " 'status': 'HTTP/1.1 200 OK'}\n",
      "63000 {'code': 200,\n",
      " 'message': 'Batch successfully added',\n",
      " 'status': 'HTTP/1.1 200 OK'}\n",
      "63500 {'code': 200,\n",
      " 'message': 'Batch successfully added',\n",
      " 'status': 'HTTP/1.1 200 OK'}\n",
      "64000 {'code': 200,\n",
      " 'message': 'Batch successfully added',\n",
      " 'status': 'HTTP/1.1 200 OK'}\n",
      "64500 {'code': 200,\n",
      " 'message': 'Batch successfully added',\n",
      " 'status': 'HTTP/1.1 200 OK'}\n",
      "65000 {'code': 200,\n",
      " 'message': 'Batch successfully added',\n",
      " 'status': 'HTTP/1.1 200 OK'}\n",
      "65500 {'code': 200,\n",
      " 'message': 'Batch successfully added',\n",
      " 'status': 'HTTP/1.1 200 OK'}\n",
      "66000 {'code': 200,\n",
      " 'message': 'Batch successfully added',\n",
      " 'status': 'HTTP/1.1 200 OK'}\n",
      "66500 {'code': 200,\n",
      " 'message': 'Batch successfully added',\n",
      " 'status': 'HTTP/1.1 200 OK'}\n",
      "67000 {'code': 200,\n",
      " 'message': 'Batch successfully added',\n",
      " 'status': 'HTTP/1.1 200 OK'}\n",
      "67500 {'code': 200,\n",
      " 'message': 'Batch successfully added',\n",
      " 'status': 'HTTP/1.1 200 OK'}\n",
      "68000 {'code': 200,\n",
      " 'message': 'Batch successfully added',\n",
      " 'status': 'HTTP/1.1 200 OK'}\n",
      "68500 {'code': 200,\n",
      " 'message': 'Batch successfully added',\n",
      " 'status': 'HTTP/1.1 200 OK'}\n",
      "69000 {'code': 200,\n",
      " 'message': 'Batch successfully added',\n",
      " 'status': 'HTTP/1.1 200 OK'}\n",
      "69500 {'code': 200,\n",
      " 'message': 'Batch successfully added',\n",
      " 'status': 'HTTP/1.1 200 OK'}\n",
      "70000 {'code': 200,\n",
      " 'message': 'Batch successfully added',\n",
      " 'status': 'HTTP/1.1 200 OK'}\n",
      "70500 {'code': 200,\n",
      " 'message': 'Batch successfully added',\n",
      " 'status': 'HTTP/1.1 200 OK'}\n",
      "71000 {'code': 200,\n",
      " 'message': 'Batch successfully added',\n",
      " 'status': 'HTTP/1.1 200 OK'}\n",
      "71500 {'code': 200,\n",
      " 'message': 'Batch successfully added',\n",
      " 'status': 'HTTP/1.1 200 OK'}\n",
      "72000 {'code': 200,\n",
      " 'message': 'Batch successfully added',\n",
      " 'status': 'HTTP/1.1 200 OK'}\n",
      "72500 {'code': 200,\n",
      " 'message': 'Batch successfully added',\n",
      " 'status': 'HTTP/1.1 200 OK'}\n",
      "73000 {'code': 200,\n",
      " 'message': 'Batch successfully added',\n",
      " 'status': 'HTTP/1.1 200 OK'}\n",
      "73500 {'code': 200,\n",
      " 'message': 'Batch successfully added',\n",
      " 'status': 'HTTP/1.1 200 OK'}\n",
      "74000 {'code': 200,\n",
      " 'message': 'Batch successfully added',\n",
      " 'status': 'HTTP/1.1 200 OK'}\n",
      "74500 {'code': 200,\n",
      " 'message': 'Batch successfully added',\n",
      " 'status': 'HTTP/1.1 200 OK'}\n",
      "75000 {'code': 200,\n",
      " 'message': 'Batch successfully added',\n",
      " 'status': 'HTTP/1.1 200 OK'}\n",
      "75500 {'code': 200,\n",
      " 'message': 'Batch successfully added',\n",
      " 'status': 'HTTP/1.1 200 OK'}\n",
      "76000 {'code': 200,\n",
      " 'message': 'Batch successfully added',\n",
      " 'status': 'HTTP/1.1 200 OK'}\n",
      "76500 {'code': 200,\n",
      " 'message': 'Batch successfully added',\n",
      " 'status': 'HTTP/1.1 200 OK'}\n",
      "77000 {'code': 200,\n",
      " 'message': 'Batch successfully added',\n",
      " 'status': 'HTTP/1.1 200 OK'}\n",
      "77500 {'code': 200,\n",
      " 'message': 'Batch successfully added',\n",
      " 'status': 'HTTP/1.1 200 OK'}\n",
      "78000 {'code': 200,\n",
      " 'message': 'Batch successfully added',\n",
      " 'status': 'HTTP/1.1 200 OK'}\n",
      "78500 {'code': 200,\n",
      " 'message': 'Batch successfully added',\n",
      " 'status': 'HTTP/1.1 200 OK'}\n",
      "79000 {'code': 200,\n",
      " 'message': 'Batch successfully added',\n",
      " 'status': 'HTTP/1.1 200 OK'}\n",
      "79500 {'code': 200,\n",
      " 'message': 'Batch successfully added',\n",
      " 'status': 'HTTP/1.1 200 OK'}\n",
      "80000 {'code': 200,\n",
      " 'message': 'Batch successfully added',\n",
      " 'status': 'HTTP/1.1 200 OK'}\n",
      "80500 {'code': 200,\n",
      " 'message': 'Batch successfully added',\n",
      " 'status': 'HTTP/1.1 200 OK'}\n",
      "81000 {'code': 200,\n",
      " 'message': 'Batch successfully added',\n",
      " 'status': 'HTTP/1.1 200 OK'}\n",
      "81500 {'code': 200,\n",
      " 'message': 'Batch successfully added',\n",
      " 'status': 'HTTP/1.1 200 OK'}\n",
      "82000 {'code': 200,\n",
      " 'message': 'Batch successfully added',\n",
      " 'status': 'HTTP/1.1 200 OK'}\n",
      "82500 {'code': 200,\n",
      " 'message': 'Batch successfully added',\n",
      " 'status': 'HTTP/1.1 200 OK'}\n",
      "83000 {'code': 200,\n",
      " 'message': 'Batch successfully added',\n",
      " 'status': 'HTTP/1.1 200 OK'}\n",
      "83500 {'code': 200,\n",
      " 'message': 'Batch successfully added',\n",
      " 'status': 'HTTP/1.1 200 OK'}\n",
      "84000 {'code': 200,\n",
      " 'message': 'Batch successfully added',\n",
      " 'status': 'HTTP/1.1 200 OK'}\n",
      "84500 {'code': 200,\n",
      " 'message': 'Batch successfully added',\n",
      " 'status': 'HTTP/1.1 200 OK'}\n",
      "85000 {'code': 200,\n",
      " 'message': 'Batch successfully added',\n",
      " 'status': 'HTTP/1.1 200 OK'}\n",
      "85500 {'code': 200,\n",
      " 'message': 'Batch successfully added',\n",
      " 'status': 'HTTP/1.1 200 OK'}\n",
      "86000 {'code': 200,\n",
      " 'message': 'Batch successfully added',\n",
      " 'status': 'HTTP/1.1 200 OK'}\n",
      "86500 {'code': 200,\n",
      " 'message': 'Batch successfully added',\n",
      " 'status': 'HTTP/1.1 200 OK'}\n",
      "87000 {'code': 200,\n",
      " 'message': 'Batch successfully added',\n",
      " 'status': 'HTTP/1.1 200 OK'}\n",
      "87500 {'code': 200,\n",
      " 'message': 'Batch successfully added',\n",
      " 'status': 'HTTP/1.1 200 OK'}\n",
      "88000 {'code': 200,\n",
      " 'message': 'Batch successfully added',\n",
      " 'status': 'HTTP/1.1 200 OK'}\n",
      "88500 {'code': 200,\n",
      " 'message': 'Batch successfully added',\n",
      " 'status': 'HTTP/1.1 200 OK'}\n",
      "89000 {'code': 200,\n",
      " 'message': 'Batch successfully added',\n",
      " 'status': 'HTTP/1.1 200 OK'}\n",
      "89500 {'code': 200,\n",
      " 'message': 'Batch successfully added',\n",
      " 'status': 'HTTP/1.1 200 OK'}\n",
      "90000 {'code': 200,\n",
      " 'message': 'Batch successfully added',\n",
      " 'status': 'HTTP/1.1 200 OK'}\n",
      "90500 {'code': 200,\n",
      " 'message': 'Batch successfully added',\n",
      " 'status': 'HTTP/1.1 200 OK'}\n",
      "91000 {'code': 200,\n",
      " 'message': 'Batch successfully added',\n",
      " 'status': 'HTTP/1.1 200 OK'}\n",
      "91500 {'code': 200,\n",
      " 'message': 'Batch successfully added',\n",
      " 'status': 'HTTP/1.1 200 OK'}\n"
     ]
    },
    {
     "name": "stdout",
     "output_type": "stream",
     "text": [
      "92000 {'code': 200,\n",
      " 'message': 'Batch successfully added',\n",
      " 'status': 'HTTP/1.1 200 OK'}\n",
      "92500 {'code': 200,\n",
      " 'message': 'Batch successfully added',\n",
      " 'status': 'HTTP/1.1 200 OK'}\n",
      "93000 {'code': 200,\n",
      " 'message': 'Batch successfully added',\n",
      " 'status': 'HTTP/1.1 200 OK'}\n",
      "93500 {'code': 200,\n",
      " 'message': 'Batch successfully added',\n",
      " 'status': 'HTTP/1.1 200 OK'}\n",
      "94000 {'code': 200,\n",
      " 'message': 'Batch successfully added',\n",
      " 'status': 'HTTP/1.1 200 OK'}\n",
      "94500 {'code': 200,\n",
      " 'message': 'Batch successfully added',\n",
      " 'status': 'HTTP/1.1 200 OK'}\n",
      "95000 {'code': 200,\n",
      " 'message': 'Batch successfully added',\n",
      " 'status': 'HTTP/1.1 200 OK'}\n",
      "95500 {'code': 200,\n",
      " 'message': 'Batch successfully added',\n",
      " 'status': 'HTTP/1.1 200 OK'}\n",
      "96000 {'code': 200,\n",
      " 'message': 'Batch successfully added',\n",
      " 'status': 'HTTP/1.1 200 OK'}\n",
      "96500 {'code': 200,\n",
      " 'message': 'Batch successfully added',\n",
      " 'status': 'HTTP/1.1 200 OK'}\n",
      "97000 {'code': 200,\n",
      " 'message': 'Batch successfully added',\n",
      " 'status': 'HTTP/1.1 200 OK'}\n",
      "97500 {'code': 200,\n",
      " 'message': 'Batch successfully added',\n",
      " 'status': 'HTTP/1.1 200 OK'}\n",
      "98000 {'code': 200,\n",
      " 'message': 'Batch successfully added',\n",
      " 'status': 'HTTP/1.1 200 OK'}\n",
      "98500 {'code': 200,\n",
      " 'message': 'Batch successfully added',\n",
      " 'status': 'HTTP/1.1 200 OK'}\n",
      "99000 {'code': 200,\n",
      " 'message': 'Batch successfully added',\n",
      " 'status': 'HTTP/1.1 200 OK'}\n",
      "99500 {'code': 200,\n",
      " 'message': 'Batch successfully added',\n",
      " 'status': 'HTTP/1.1 200 OK'}\n",
      "99999 {'code': 200,\n",
      " 'message': 'Batch successfully added',\n",
      " 'status': 'HTTP/1.1 200 OK'}\n"
     ]
    },
    {
     "data": {
      "text/plain": [
       "{'code': 200, 'message': 'Dataset committed successfully', 'status': 'OK'}"
      ]
     },
     "execution_count": 9,
     "metadata": {},
     "output_type": "execute_result"
    }
   ],
   "source": [
    "dataset_path = '100k-crimes-dataset-processed_data.json'\n",
    "\n",
    "\n",
    "hyperspace_client.clear_collection(collection_name)\n",
    "\n",
    "#sfunc.batch_ingest_data(dataset_path, 2000 , config, collection_name) \n",
    "sfunc.batch_ingest_data(hyperspace_client, dataset_path, 0 , config, collection_name) \n",
    "\n",
    "hyperspace_client.commit(collection_name)\n"
   ]
  },
  {
   "cell_type": "markdown",
   "id": "8lRgTyKwWJ84",
   "metadata": {
    "id": "8lRgTyKwWJ84"
   },
   "source": [
    "### Check collection size after ingestion"
   ]
  },
  {
   "cell_type": "code",
   "execution_count": 10,
   "id": "9edaa4a5",
   "metadata": {},
   "outputs": [
    {
     "name": "stdout",
     "output_type": "stream",
     "text": [
      "{'collections': {'CrimesInChicago': {'creation_time': '2024-01-15T14:17:31Z', 'size': 100000}}}\n"
     ]
    }
   ],
   "source": [
    "print(hyperspace_client.collections_info())"
   ]
  },
  {
   "cell_type": "markdown",
   "id": "431d2480",
   "metadata": {
    "id": "8lRgTyKwWJ84"
   },
   "source": [
    "## 6. Define Logic and Run a Query\n",
    "We build a search query using Hyper-space. we first select one document from the datset, document \"10224965\", lets take a look in this document \n"
   ]
  },
  {
   "cell_type": "code",
   "execution_count": 11,
   "id": "0YdFBOCsOJka",
   "metadata": {
    "ExecuteTime": {
     "end_time": "2024-01-01T19:48:23.799088500Z",
     "start_time": "2024-01-01T19:48:23.709531200Z"
    },
    "colab": {
     "base_uri": "https://localhost:8080/"
    },
    "id": "0YdFBOCsOJka",
    "outputId": "05a6e4cb-c80f-4d16-fc1f-c81e7ce4a0b9",
    "scrolled": false
   },
   "outputs": [
    {
     "name": "stdout",
     "output_type": "stream",
     "text": [
      "{'Arrest': True,\n",
      " 'Beat': 531,\n",
      " 'Block': '114XX S PRAIRIE AVE',\n",
      " 'Case Number': 'HY413236',\n",
      " 'Community Area': 49,\n",
      " 'Date': 1441561500,\n",
      " 'Description': 'AGGRAVATED:KNIFE/CUTTING INSTR',\n",
      " 'District': 5,\n",
      " 'Domestic': False,\n",
      " 'FBI Code': '04B',\n",
      " 'ID': '1022',\n",
      " 'IUCR': '0420',\n",
      " 'Latitude': 41.686521024,\n",
      " 'Location': [41.686521024, -87.61683831],\n",
      " 'Location Description': 'RESIDENCE',\n",
      " 'Longitude': -87.61683831,\n",
      " 'Primary Type': 'BATTERY',\n",
      " 'Updated On': 1518270601,\n",
      " 'Ward': 9,\n",
      " 'X Coordinate': 1179956,\n",
      " 'Y Coordinate': 1829174,\n",
      " 'Year': 2015}\n"
     ]
    }
   ],
   "source": [
    "\n",
    "input_vector = hyperspace_client.get_document(collection_name, \"1022\")\n",
    "sfunc.pprint(input_vector)"
   ]
  },
  {
   "cell_type": "markdown",
   "id": "ozeEfW7b6g9Z",
   "metadata": {
    "id": "ozeEfW7b6g9Z"
   },
   "source": [
    "We will use a very simple logic, which matchs the description and location, and make sure case number doesn't match so we won't get back the same result.\n",
    "\n",
    "We use the following logic:\n",
    "\n",
    "\n",
    "*   document/case will match if it has the same \"Description\" and not the same \"Case Number\"\n",
    "*   document/case will also match if it happended in the same \"Block\"\n",
    "*   we boost the score by 5 points if geo \"Location\" is close (40 something)\n",
    "*   we reduce the score by 5 points if the \"District\" is the same and case date if 40 to 100 days before the query case date\n",
    "\n",
    "Score function is listed next :\n",
    "\n"
   ]
  },
  {
   "cell_type": "code",
   "execution_count": 12,
   "id": "GxF-npmSzv8w",
   "metadata": {
    "ExecuteTime": {
     "end_time": "2024-01-01T19:48:24.919943600Z",
     "start_time": "2024-01-01T19:48:23.804052800Z"
    },
    "id": "GxF-npmSzv8w"
   },
   "outputs": [
    {
     "name": "stdout",
     "output_type": "stream",
     "text": [
      "set_score_function : OK\n"
     ]
    }
   ],
   "source": [
    "\n",
    "def similarity_score(Q, V):\n",
    "    score = 0.0\n",
    "\n",
    "    if match('Description') and not match('Case Number'):\n",
    "        score = rarity_max('Description')\n",
    "        if geo_dist_match('Location',40):\n",
    "            score += 5\n",
    "        if match('District') and window_match('Date', 100, 40):\n",
    "            score -= 5\n",
    "    if match('Block'):\n",
    "        score += rarity_max('Block')\n",
    "    return score\n",
    "\n",
    "# this is still not working\n",
    "# hyperspace_client.set_function(similarity_score, collection_name)\n",
    "\n",
    "sfunc.set_score_function(hyperspace_client, similarity_score, collection_name, score_function_name='similarity_score')"
   ]
  },
  {
   "cell_type": "markdown",
   "id": "9278f9a1",
   "metadata": {},
   "source": [
    "### Next, we fire the query "
   ]
  },
  {
   "cell_type": "code",
   "execution_count": 13,
   "id": "5ff98e9d",
   "metadata": {
    "ExecuteTime": {
     "end_time": "2024-01-01T19:48:27.188125100Z",
     "start_time": "2024-01-01T19:48:24.923896Z"
    },
    "colab": {
     "base_uri": "https://localhost:8080/"
    },
    "id": "5ff98e9d",
    "outputId": "b9dae0cd-a275-4938-d3df-66ead42473b3"
   },
   "outputs": [
    {
     "name": "stdout",
     "output_type": "stream",
     "text": [
      "query run time   : 2.85067  ms\n",
      "hits (candidates): 784\n",
      " 1 id 1022       score =   14.440\n",
      " 2 id 39728      score =   14.440\n",
      " 3 id 57687      score =   14.440\n",
      " 4 id 88471      score =   14.440\n",
      " 5 id 12316      score =   12.000\n",
      " 6 id 13849      score =   12.000\n",
      " 7 id 14077      score =   12.000\n",
      " 8 id 15761      score =   12.000\n",
      " 9 id 16138      score =   12.000\n",
      "10 id 17331      score =   12.000\n",
      "11 id 17449      score =   12.000\n",
      "12 id 17513      score =   12.000\n",
      "13 id 17613      score =   12.000\n",
      "14 id 18047      score =   12.000\n",
      "15 id 18236      score =   12.000\n",
      "16 id 18305      score =   12.000\n",
      "17 id 21128      score =   12.000\n",
      "18 id 22134      score =   12.000\n",
      "19 id 24174      score =   12.000\n",
      "20 id 24301      score =   12.000\n",
      "21 id 25335      score =   12.000\n",
      "22 id 29553      score =   12.000\n",
      "23 id 30218      score =   12.000\n",
      "24 id 323        score =   12.000\n",
      "25 id 37162      score =   12.000\n",
      "26 id 39478      score =   12.000\n",
      "27 id 457        score =   12.000\n",
      "28 id 50477      score =   12.000\n",
      "29 id 5133       score =   12.000\n",
      "30 id 7307       score =   12.000\n",
      "=================================\n"
     ]
    }
   ],
   "source": [
    "results = hyperspace_client.search({'params': input_vector},\n",
    "                                        size=30,\n",
    "                                        function_name='similarity_score',\n",
    "                                        collection_name=collection_name)\n",
    "\n",
    "sfunc.print_results( results, collection_name )\n"
   ]
  },
  {
   "cell_type": "markdown",
   "id": "EOdmFy7WDBGx",
   "metadata": {
    "id": "EOdmFy7WDBGx"
   },
   "source": [
    "We display the top 30 results. Note that results with similar score are ordered arbitrarily, so more complex logic will likely result in better outcome. \n",
    "lets take a look in the content of top matching document, we can see the match in \"Description\", no match in \"Block\" and \"District\" and match in \"Location\""
   ]
  },
  {
   "cell_type": "code",
   "execution_count": 14,
   "id": "8494e3a0",
   "metadata": {
    "ExecuteTime": {
     "end_time": "2024-01-01T19:48:23.799088500Z",
     "start_time": "2024-01-01T19:48:23.709531200Z"
    },
    "colab": {
     "base_uri": "https://localhost:8080/"
    },
    "id": "0YdFBOCsOJka",
    "outputId": "05a6e4cb-c80f-4d16-fc1f-c81e7ce4a0b9",
    "scrolled": false
   },
   "outputs": [
    {
     "name": "stdout",
     "output_type": "stream",
     "text": [
      "{'Arrest': True,\n",
      " 'Beat': 531,\n",
      " 'Block': '114XX S PRAIRIE AVE',\n",
      " 'Case Number': 'HY413236',\n",
      " 'Community Area': 49,\n",
      " 'Date': 1441561500,\n",
      " 'Description': 'AGGRAVATED:KNIFE/CUTTING INSTR',\n",
      " 'District': 5,\n",
      " 'Domestic': False,\n",
      " 'FBI Code': '04B',\n",
      " 'ID': '1022',\n",
      " 'IUCR': '0420',\n",
      " 'Latitude': 41.686521024,\n",
      " 'Location': [41.686521024, -87.61683831],\n",
      " 'Location Description': 'RESIDENCE',\n",
      " 'Longitude': -87.61683831,\n",
      " 'Primary Type': 'BATTERY',\n",
      " 'Updated On': 1518270601,\n",
      " 'Ward': 9,\n",
      " 'X Coordinate': 1179956,\n",
      " 'Y Coordinate': 1829174,\n",
      " 'Year': 2015}\n"
     ]
    }
   ],
   "source": [
    "\n",
    "input_vector = hyperspace_client.get_document(collection_name, \"1022\")\n",
    "sfunc.pprint(input_vector)"
   ]
  },
  {
   "cell_type": "markdown",
   "id": "97f08c7c",
   "metadata": {},
   "source": [
    "### Score function with some aggregation"
   ]
  },
  {
   "cell_type": "markdown",
   "id": "33153809",
   "metadata": {},
   "source": [
    "we add count aggregation to get the number of cases with \"Description\" match and separate count for the number of cases with additional geo match."
   ]
  },
  {
   "cell_type": "code",
   "execution_count": 15,
   "id": "T3zQ_oWDiOlX",
   "metadata": {
    "ExecuteTime": {
     "end_time": "2024-01-01T19:48:28.309475700Z",
     "start_time": "2024-01-01T19:48:27.190122300Z"
    },
    "id": "T3zQ_oWDiOlX"
   },
   "outputs": [
    {
     "name": "stdout",
     "output_type": "stream",
     "text": [
      "set_score_function : OK\n"
     ]
    }
   ],
   "source": [
    "def similarity_score_aggregations(Q, V):\n",
    "    score = 0.0\n",
    "\n",
    "    if match('Description') and not match('Case Number'):\n",
    "        aggregate_count(\"count of cases\")\n",
    "\n",
    "        score = rarity_max('Description')\n",
    "        if geo_dist_match('Location',40):\n",
    "            aggregate_count(\"count of cases in nearby districts\")\n",
    "            score += 5\n",
    "        if match('District') and window_match('Date', 100, 40):\n",
    "            score -= 5\n",
    "    if match('Block'):\n",
    "        score += rarity_max('Block')\n",
    "    return score\n",
    "\n",
    "sfunc.set_score_function(hyperspace_client, similarity_score_aggregations, collection_name, score_function_name='similarity_score_aggregations')\n"
   ]
  },
  {
   "cell_type": "markdown",
   "id": "986987d6",
   "metadata": {},
   "source": [
    "### Next, we fire the query "
   ]
  },
  {
   "cell_type": "code",
   "execution_count": 16,
   "id": "TwAlkz09iRtm",
   "metadata": {
    "ExecuteTime": {
     "end_time": "2024-01-01T19:48:30.564849400Z",
     "start_time": "2024-01-01T19:48:28.313459800Z"
    },
    "colab": {
     "base_uri": "https://localhost:8080/"
    },
    "id": "TwAlkz09iRtm",
    "outputId": "4cea4ba6-0db8-4835-9fec-5f995cd0e000"
   },
   "outputs": [
    {
     "name": "stdout",
     "output_type": "stream",
     "text": [
      "query run time   : 2.8925  ms\n",
      "hits (candidates): 784\n",
      " 1 id 1022       score =   14.440\n",
      " 2 id 39728      score =   14.440\n",
      " 3 id 57687      score =   14.440\n",
      " 4 id 88471      score =   14.440\n",
      " 5 id 12316      score =   12.000\n",
      " 6 id 13849      score =   12.000\n",
      " 7 id 14077      score =   12.000\n",
      " 8 id 15761      score =   12.000\n",
      " 9 id 16138      score =   12.000\n",
      "10 id 17331      score =   12.000\n",
      "11 id 17449      score =   12.000\n",
      "12 id 17513      score =   12.000\n",
      "13 id 17613      score =   12.000\n",
      "14 id 18047      score =   12.000\n",
      "15 id 18236      score =   12.000\n",
      "16 id 18305      score =   12.000\n",
      "17 id 21128      score =   12.000\n",
      "18 id 22134      score =   12.000\n",
      "19 id 24174      score =   12.000\n",
      "20 id 24301      score =   12.000\n",
      "21 id 25335      score =   12.000\n",
      "22 id 29553      score =   12.000\n",
      "23 id 30218      score =   12.000\n",
      "24 id 323        score =   12.000\n",
      "25 id 37162      score =   12.000\n",
      "26 id 39478      score =   12.000\n",
      "27 id 457        score =   12.000\n",
      "28 id 50477      score =   12.000\n",
      "29 id 5133       score =   12.000\n",
      "30 id 7307       score =   12.000\n",
      "=================================\n",
      "Aggregations :\n",
      "{'count of cases': {'agg_type': 'count', 'count': 780},\n",
      " 'count of cases in nearby districts': {'agg_type': 'count', 'count': 780}}\n"
     ]
    }
   ],
   "source": [
    "results = hyperspace_client.search({'params': input_vector},\n",
    "                                        size=30,\n",
    "                                        function_name='similarity_score_aggregations',\n",
    "                                        collection_name=collection_name)\n",
    "\n",
    "        \n",
    "sfunc.print_results( results, collection_name )\n"
   ]
  },
  {
   "cell_type": "markdown",
   "id": "ac3f4f25",
   "metadata": {},
   "source": [
    "we can see the aggregation section in the results where the two counts are listed\n",
    "\n"
   ]
  },
  {
   "cell_type": "markdown",
   "id": "mltHy5eKiDmu",
   "metadata": {
    "id": "mltHy5eKiDmu"
   },
   "source": [
    "For more information, visit us at [Hyperspace](https://www.hyper-space.io/)"
   ]
  },
  {
   "cell_type": "code",
   "execution_count": 17,
   "id": "77da1872",
   "metadata": {},
   "outputs": [
    {
     "name": "stdout",
     "output_type": "stream",
     "text": [
      "{'collections': {'CrimesInChicago': {'creation_time': '2024-01-15T14:17:31Z',\n",
      "                                     'last_query_time': '2024-01-15T14:18:30Z',\n",
      "                                     'size': 100000}}}\n"
     ]
    }
   ],
   "source": [
    "sfunc.pprint(hyperspace_client.collections_info())"
   ]
  },
  {
   "cell_type": "code",
   "execution_count": null,
   "id": "a7455ad0",
   "metadata": {},
   "outputs": [],
   "source": []
  },
  {
   "cell_type": "markdown",
   "id": "b5401bae",
   "metadata": {},
   "source": [
    "# Performance - stream query firing\n",
    "\n",
    "This is a bonus section, here we experiment streaming queries back to back, we fire a total of 1000 queries by 50 threads, and we measure total qps (query per second), latency as seen by the server, latency as seen by the client (much higher), total fire time measured via query start time and query end time. Have a look, very interesting.... "
   ]
  },
  {
   "cell_type": "code",
   "execution_count": 19,
   "id": "810ae291",
   "metadata": {
    "scrolled": false
   },
   "outputs": [
    {
     "name": "stderr",
     "output_type": "stream",
     "text": [
      "2024-01-15 16:22:10,771 WARNING Connection pool is full, discarding connection: trial.prod.hyper-space.xyz. Connection pool size: 40\n",
      "2024-01-15 16:22:10,789 WARNING Connection pool is full, discarding connection: trial.prod.hyper-space.xyz. Connection pool size: 40\n",
      "2024-01-15 16:22:10,814 WARNING Connection pool is full, discarding connection: trial.prod.hyper-space.xyz. Connection pool size: 40\n",
      "2024-01-15 16:22:10,859 WARNING Connection pool is full, discarding connection: trial.prod.hyper-space.xyz. Connection pool size: 40\n",
      "2024-01-15 16:22:10,881 WARNING Connection pool is full, discarding connection: trial.prod.hyper-space.xyz. Connection pool size: 40\n",
      "2024-01-15 16:22:10,929 WARNING Connection pool is full, discarding connection: trial.prod.hyper-space.xyz. Connection pool size: 40\n",
      "2024-01-15 16:22:10,984 WARNING Connection pool is full, discarding connection: trial.prod.hyper-space.xyz. Connection pool size: 40\n",
      "2024-01-15 16:22:11,001 WARNING Connection pool is full, discarding connection: trial.prod.hyper-space.xyz. Connection pool size: 40\n",
      "2024-01-15 16:22:11,080 WARNING Connection pool is full, discarding connection: trial.prod.hyper-space.xyz. Connection pool size: 40\n",
      "2024-01-15 16:22:11,093 WARNING Connection pool is full, discarding connection: trial.prod.hyper-space.xyz. Connection pool size: 40\n"
     ]
    },
    {
     "name": "stdout",
     "output_type": "stream",
     "text": [
      "\n",
      " \u001b[1m\n",
      "Fired     1000 queries in interval of :     3.855 seconds, qps =  259.402\n",
      "Total client latency                  :     7.286 seconds\n",
      "\u001b[0m \n",
      "\n"
     ]
    },
    {
     "data": {
      "image/png": "[encoded data removed]",
      "text/plain": [
       "<Figure size 720x3600 with 6 Axes>"
      ]
     },
     "metadata": {
      "needs_background": "light"
     },
     "output_type": "display_data"
    }
   ],
   "source": [
    "import threading\n",
    "import time\n",
    "import random\n",
    "from queue import Queue\n",
    "import matplotlib.pyplot as plt\n",
    "\n",
    "\n",
    "# Number of times to call the search function per second\n",
    "Total_Q   = 1000\n",
    "N_threads = 50\n",
    "T_latency = 0.02 # for dummie query\n",
    "\n",
    "Q_per_thread = int(Total_Q / N_threads)\n",
    "\n",
    "\n",
    "# Function that simulates the search operation (replace with your actual search function)\n",
    "def dummie_search() :\n",
    "    time.sleep(random.uniform(T_latency, 2*T_latency))  # Simulate the search taking between 1/N and 2/N seconds\n",
    "    return \"Search result\"\n",
    "\n",
    "# Function that simulates the search operation (replace with your actual search function)\n",
    "def search():\n",
    "    results = hyperspace_client.search({'params': input_vector},\n",
    "                                        size=30,\n",
    "                                        function_name='similarity_score',\n",
    "                                        collection_name=collection_name)\n",
    "    return results\n",
    "\n",
    "\n",
    "# Function to execute the search function N times per second\n",
    "def execute_search(results):\n",
    "    # print(\"thread_id \", threading.get_ident())\n",
    "    thread_id = threading.get_ident()\n",
    "    stat = []\n",
    "    for i in range(Q_per_thread):\n",
    "        start_time = time.time_ns()  # Capture the start time in nanoseconds\n",
    "        result = search()  # Call the search function\n",
    "        end_time = time.time_ns()  # Capture the end time in nanoseconds\n",
    "        completion_time = end_time - start_time\n",
    "        if 0:\n",
    "            print(\"thread_id %6d took_ms : %s start %.3f sec, end %.3f sec, latency %7.3f ms\" % \n",
    "                  (thread_id,  result[\"took_ms\"], start_time*1e-9, end_time*1e-9, completion_time*1e-6))\n",
    "        stat.append([thread_id, start_time*1e-9, end_time*1e-9, completion_time*1e-6, result[\"took_ms\"]] )\n",
    "\n",
    "    # print(\"stat \", stat)\n",
    "    for tmp_stat in stat :\n",
    "        results.put(tmp_stat)\n",
    "\n",
    "    \n",
    "# Create a queue to store the results and completion times\n",
    "result_queue = Queue()\n",
    "\n",
    "# Create a pool of threads\n",
    "threads = []\n",
    "for thread_id in range(N_threads):\n",
    "    thread = threading.Thread(target=execute_search, args=[result_queue])\n",
    "    # thread = threading.Thread(target=execute_search)\n",
    "    threads.append(thread)\n",
    "\n",
    "    \n",
    "start = time.time_ns()\n",
    "\n",
    "    \n",
    "# Start the threads\n",
    "for thread in threads:\n",
    "    thread.start()\n",
    "\n",
    "# Wait for all threads to finish\n",
    "for thread in threads:\n",
    "    thread.join()\n",
    "\n",
    "\n",
    "stop = time.time_ns()\n",
    "\n",
    "# Collect the results and completion times from the queues\n",
    "all_results = []\n",
    "while not result_queue.empty():\n",
    "    all_results.append(result_queue.get())\n",
    "\n",
    "\n",
    "# print(\"all_results \", all_results)\n",
    "\n",
    "#    thread = threading.Thread(target=execute_search, args=(result_queue, completion_time_queue))\n",
    "\n",
    "q_count = Total_Q\n",
    "q_count = len(all_results)\n",
    "\n",
    "delta = stop - start\n",
    "print(\"\\n \\033[1m\")\n",
    "print(\"Fired %8d queries in interval of :  %8.3f seconds, qps = %8.3f\" % ( q_count,  delta*1e-9, q_count/(delta*1e-9)) )\n",
    "\n",
    "    \n",
    "    \n",
    "\n",
    "# Extract the kth element from each inner list\n",
    "q_start_times = [inner_list[1] for inner_list in all_results]\n",
    "q_end_times   = [inner_list[2] for inner_list in all_results]\n",
    "q_client_seen_latency   = [inner_list[3] for inner_list in all_results]\n",
    "q_took_ms     = [inner_list[4] for inner_list in all_results]\n",
    "total_took_ms = sum(q_took_ms)\n",
    "\n",
    "print(\"Total client latency                  :  %8.3f seconds\"  % ( total_took_ms/1000))\n",
    "print('\\033[0m \\n')\n",
    "\n",
    "# Sort the kth_elements list\n",
    "sorted_q_start_times = sorted(q_start_times)\n",
    "sorted_q_end_times   = sorted(q_end_times)\n",
    "\n",
    "sorted_q_start_times_zero = [tmp_seconds - sorted_q_start_times[0] for tmp_seconds in  sorted_q_start_times]\n",
    "sorted_q_end_times_zero   = [tmp_seconds - sorted_q_end_times[0] for tmp_seconds in  sorted_q_end_times]\n",
    "\n",
    "sorted_q_took_ms = sorted(q_took_ms)\n",
    "\n",
    "\n",
    "# Create an x-axis for the scatter plot (optional)\n",
    "x_values = list(range(len(sorted_q_start_times)))\n",
    "\n",
    "\n",
    "# Create a new figure\n",
    "plt.figure(figsize=(10, 50))\n",
    "plt.subplot(6, 1, 1)  # 2 rows, 1 column, first subplot\n",
    "\n",
    "# Plot the sorted elements as a scatter plot\n",
    "plt.scatter( sorted_q_start_times_zero, x_values)\n",
    "\n",
    "# Optionally, add labels and title to the plot\n",
    "plt.ylabel(\"Index\")\n",
    "# plt.xlabel(\"query start time (sec)\")\n",
    "plt.title(f\"query id vs start time (seconds)\")\n",
    "\n",
    "plt.subplot(6, 1, 2)  # 2 rows, 1 column, first subplot\n",
    "\n",
    "# Plot the sorted elements as a scatter plot\n",
    "plt.scatter( sorted_q_end_times_zero, x_values)\n",
    "\n",
    "# Optionally, add labels and title to the plot\n",
    "plt.ylabel(\"Index\")\n",
    "# plt.xlabel(\"query start time (sec)\")\n",
    "plt.title(f\"query id vs end time (seconds)\")\n",
    "\n",
    "\n",
    "###########################################################\n",
    "###########################################################\n",
    "###########################################################\n",
    "# 2 views of took_ms, latency seen by search master\n",
    "###########################################################\n",
    "###########################################################\n",
    "###########################################################\n",
    "\n",
    "plt.subplot(6, 1, 3)  # 2 rows, 1 column, first subplot\n",
    "\n",
    "\n",
    "plt.hist(sorted_q_took_ms, bins=50, color='skyblue', edgecolor='black', alpha=0.7)\n",
    "plt.title(f\"query latency (ms) histogram\")\n",
    "plt.ylabel(\"Count\")\n",
    "\n",
    "\n",
    "plt.subplot(6, 1, 4)  # 2 rows, 1 column, first subplot\n",
    "\n",
    "\n",
    "###########################################################\n",
    "###########################################################\n",
    "###########################################################\n",
    "\n",
    "# should come from external json file\n",
    "input_dict = {\n",
    "    \"fig_title\"    : \"query latency (ms) percentile\",\n",
    "    \"x_axis_label\" : \"\",\n",
    "    \"y_axis_label\" : \"latency in ms\",\n",
    "    \"ylim\"         : [0,60], \n",
    "    \"x_ticks\"      : [0.0, 0.5, 0.75, 0.95, 0.99, 0.999],\n",
    "\n",
    "    \"samples\" : [\n",
    "    {\n",
    "    \"legend\" : \"sample 1 hyperspace\",\n",
    "    \"data\"   : q_took_ms\n",
    "    }\n",
    "    ]\n",
    "}\n",
    "\n",
    "###########################################################\n",
    "###########################################################\n",
    "###########################################################\n",
    "\n",
    "\n",
    "sperc.do_percentile(input_dict)\n",
    "\n",
    "###########################################################\n",
    "###########################################################\n",
    "###########################################################\n",
    "# 2 views of client_latency, latency seen by client\n",
    "###########################################################\n",
    "###########################################################\n",
    "###########################################################\n",
    "\n",
    "plt.subplot(6, 1, 5)  # 2 rows, 1 column, first subplot\n",
    "\n",
    "\n",
    "plt.hist(q_client_seen_latency, bins=50, color='skyblue', edgecolor='black', alpha=0.7)\n",
    "plt.title(f\"client latency (ms) histogram\")\n",
    "plt.ylabel(\"Count\")\n",
    "\n",
    "\n",
    "plt.subplot(6, 1, 6)  # 2 rows, 1 column, first subplot\n",
    "\n",
    "\n",
    "###########################################################\n",
    "###########################################################\n",
    "###########################################################\n",
    "\n",
    "# should come from external json file\n",
    "input_dict = {\n",
    "    \"fig_title\"    : \"client latency (ms) percentile\",\n",
    "    \"x_axis_label\" : \"\",\n",
    "    \"y_axis_label\" : \"latency in ms\",\n",
    "    \"ylim\"         : [0,300], \n",
    "    \"x_ticks\"      : [0.0, 0.5, 0.75, 0.95, 0.99, 0.999],\n",
    "\n",
    "    \"samples\" : [\n",
    "    {\n",
    "    \"legend\" : \"sample 1 hyperspace\",\n",
    "    \"data\"   : q_client_seen_latency\n",
    "    }\n",
    "    ]\n",
    "}\n",
    "\n",
    "###########################################################\n",
    "###########################################################\n",
    "###########################################################\n",
    "\n",
    "\n",
    "sperc.do_percentile(input_dict)\n",
    "\n",
    "\n",
    "\n",
    "# Show the plot\n",
    "plt.show()\n",
    "    "
   ]
  },
  {
   "cell_type": "code",
   "execution_count": null,
   "id": "d9f4129f",
   "metadata": {},
   "outputs": [],
   "source": []
  }
 ],
 "metadata": {
  "colab": {
   "provenance": []
  },
  "kernelspec": {
   "display_name": "Python 3 (ipykernel)",
   "language": "python",
   "name": "python3"
  },
  "language_info": {
   "codemirror_mode": {
    "name": "ipython",
    "version": 3
   },
   "file_extension": ".py",
   "mimetype": "text/x-python",
   "name": "python",
   "nbconvert_exporter": "python",
   "pygments_lexer": "ipython3",
   "version": "3.9.6"
  }
 },
 "nbformat": 4,
 "nbformat_minor": 5
}
