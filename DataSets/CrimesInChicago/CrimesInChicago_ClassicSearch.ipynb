{
 "cells": [
  {
   "cell_type": "markdown",
   "id": "X3eWQaOFp2lG",
   "metadata": {
    "id": "X3eWQaOFp2lG"
   },
   "source": [
    "![63f78014766fd30436c18a79_Hyperspace - navbar logo.png](data:image/png;base64,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)"
   ]
  },
  {
   "cell_type": "markdown",
   "id": "1Kone1nET7HS",
   "metadata": {
    "id": "1Kone1nET7HS"
   },
   "source": [
    "# Classic Search With Hyperspace\n",
    "This notebook demonstrates the use of Hyperspace engine for classic search, combining keyword and value matching.\n",
    "For more info, see the [Hyperspace documentation](https://docs.hyper-space.io/hyperspace-docs/getting-started/overview).\n",
    "\n",
    "[![Open In Colab](https://colab.research.google.com/assets/colab-badge.svg)](https://colab.research.google.com/github/hyper-space-io/QuickStart/blob/master/DataSets/CrimesInChicago/CrimesInChicago_ClassicSearch.ipynb)\n",
    "## The Dataset - Crimes In Chicago Dataset\n",
    "From Kaggle:\n",
    "\"This dataset reflects reported incidents of crime (with the exception of murders where data exists for each victim) that occurred in the City of Chicago from 2001 to present, minus the most recent seven days. Data is extracted from the Chicago Police Department's CLEAR (Citizen Law Enforcement Analysis and Reporting) system. In order to protect the privacy of crime victims, addresses are shown at the block level only and specific locations are not identified. This data includes unverified reports supplied to the Police Department. The preliminary crime classifications may be changed at a later date based upon additional investigation and there is always the possibility of mechanical or human error. Therefore, the Chicago Police Department does not guarantee (either expressed or implied) the accuracy, completeness, timeliness, or correct sequencing of the information and the information should not be used for comparison purposes over time.\"\n",
    "\n",
    "The [dataset](https://www.kaggle.com/datasets/chicago/chicago-crime) can be downloaded from [Hyperspace git](https://github.com/hyper-space-io/QuickStart/blob/main/DataSets/CrimesInChicago/100k-crimes-dataset-processed_data.zip).\n",
    "\n",
    "## The Dataset Fields\n",
    "1. **Case Number {'type': 'keyword'}** - The Chicago Police Department RD Number (Records Division Number), which is unique to the incident.\n",
    "2. **Date {'type': 'date', 'format': 'MM/dd/yyyy hh:mm:ss a'}** - Date when the incident occurred. this is sometimes a best estimate.\n",
    "3. **Block {'type 'keyword'}** -The partially redacted address where the incident occurred, placing it on the same block as the actual address.\n",
    "4. **IUCR {'type 'keyword'}** - The Illinois Unifrom Crime Reporting code. This is directly linked to the Primary Type and Description. See the list of IUCR codes at https://data.cityofchicago.org/d/c7ck-438e.\n",
    "5. **Primary Type {'type 'keyword'}** - The primary description of the IUCR code.\n",
    "6. **Description {'type 'keyword'}** - The secondary description of the IUCR code, a subcategory of the primary description.\n",
    "7. **Location Description {'type 'keyword'}** - Description of the location where the incident occurred.\n",
    "8. **Arrest {'type 'boolean'}** - Indicates whether an arrest was made.\n",
    "9. **Domestic {'type 'boolean'}** - Indicates whether the incident was domestic-related as defined by the Illinois Domestic Violence Act.\n",
    "10. **Beat {'type 'integer'}** - Indicates the beat where the incident occurred. A beat is the smallest police geographic area – each beat has a dedicated police beat car. Three to five beats make up a police sector, and three sectors make up a police district. The Chicago Police Department has 22 police districts. See the beats at https://data.cityofchicago.org/d/aerh-rz74.\n",
    "11. **District {'type 'integer'}** - Indicates the police district where the incident occurred. See the districts at https://data.cityofchicago.org/d/fthy-xz3r.\n",
    "12. **Ward {'type 'integer'}** - The ward (City Council district) where the incident occurred. See the wards at https://data.cityofchicago.org/d/sp34-6z76.\n",
    "13. **Community Area {'type 'integer'}** - Indicates the community area where the incident occurred. Chicago has 77 community areas. See the community areas at https://data.cityofchicago.org/d/cauq-8yn6.\n",
    "14. **FBI Code {'type 'keyword'}** - Indicates the crime classification as outlined in the FBI's National Incident-Based Reporting System (NIBRS). See the Chicago Police Department listing of these classifications at http://gis.chicagopolice.org/clearmap_crime_sums/crime_types.html.\n",
    "15. **X Coordinate {'type 'integer'}** - The x coordinate of the location where the incident occurred in State Plane Illinois East NAD 1983 projection. This location is shifted from the actual location for partial redaction but falls on the same block.\n",
    "16. **Y Coordinate {'type 'integer'}** - The y coordinate of the location where the incident occurred in State Plane Illinois East NAD 1983 projection. This location is shifted from the actual location for partial redaction but falls on the same block.\n",
    "17. **Year {'type 'integer'}** - Year the incident occurred.\n",
    "18. **Updated On {'type 'date', 'format 'MM/dd/yyyy hh:mm:ss a'}** - Date and time the record was last updated.\n",
    "19. **Latitude {'type 'float'}** - The latitude of the location where the incident occurred. This location is shifted from the actual location for partial redaction but falls on the same block.\n",
    "20. **Longitude {'type 'float'}** - The longitude of the location where the incident occurred. This location is shifted from the actual location for partial redaction but falls on the same block.\n",
    "21. **Location {'type 'geo_point', 'struct_type 'list'}** - The location where the incident occurred in a format that allows for creation of maps and other geographic operations on this data portal. This location is shifted from the actual location for partial redaction but falls on the same block."
   ]
  },
  {
   "cell_type": "markdown",
   "id": "QHPcXuhkq4uN",
   "metadata": {
    "id": "QHPcXuhkq4uN"
   },
   "source": [
    "\n",
    "# Setting up the Hyperspace Environment\n",
    "Setting up the environment and running the query includes the following steps\n",
    "1. Download and install the client API\n",
    "2. Connect to a server\n",
    "3. Create data schema file\n",
    "4. Create collection\n",
    "5. Ingest data\n",
    "6. Run query"
   ]
  },
  {
   "cell_type": "markdown",
   "id": "SZwFmp6tVLZ_",
   "metadata": {
    "id": "SZwFmp6tVLZ_"
   },
   "source": [
    "## 1. Install the Hyperspace client API\n",
    "Hyperspace API can be installed directly from git, using the following command:"
   ]
  },
  {
   "cell_type": "code",
   "execution_count": null,
   "id": "l1DTYoFb1vnF",
   "metadata": {
    "ExecuteTime": {
     "end_time": "2024-01-03T12:59:27.200146500Z",
     "start_time": "2024-01-03T12:59:20.166207100Z"
    },
    "colab": {
     "base_uri": "https://localhost:8080/"
    },
    "id": "l1DTYoFb1vnF",
    "outputId": "fec68637-8582-46fa-89e9-2720a731a9cc"
   },
   "outputs": [],
   "source": [
    "#!pip uninstall hyperspace\n",
    "!pip install git+https://github.com/hyper-space-io/hyperspace-py"
   ]
  },
  {
   "cell_type": "markdown",
   "id": "4f62a8a6",
   "metadata": {},
   "source": [
    "### Supporting functions"
   ]
  },
  {
   "cell_type": "code",
   "execution_count": null,
   "id": "02a40190",
   "metadata": {},
   "outputs": [],
   "source": [
    "\n",
    "import support_functions as sfunc\n",
    "import support_percentile as sperc\n"
   ]
  },
  {
   "cell_type": "markdown",
   "id": "e9053cb5ddb9badb",
   "metadata": {},
   "source": [
    "### Download dataset"
   ]
  },
  {
   "cell_type": "code",
   "execution_count": null,
   "id": "363dc2a1498d9fce",
   "metadata": {
    "ExecuteTime": {
     "end_time": "2024-01-03T13:13:00.876533Z",
     "start_time": "2024-01-03T13:12:56.193951Z"
    }
   },
   "outputs": [],
   "source": [
    "\n",
    "data_url = \"https://hyperspace-datasets.s3.eu-central-1.amazonaws.com/100k-crimes-dataset-processed_data.zip\"\n",
    "sfunc.download_data(data_url, \"./100k-crimes-dataset-processed_data.zip\")\n",
    "sfunc.unzip_file(\"./100k-crimes-dataset-processed_data.zip\")\n"
   ]
  },
  {
   "cell_type": "markdown",
   "id": "TCZSwM6DVeDm",
   "metadata": {
    "id": "TCZSwM6DVeDm"
   },
   "source": [
    "## 2. Connect to the server\n",
    "\n",
    "Once the Hyperspace API is installed, the database can be accessed by creating a local instance of the Hyperspace client. This step requires host address, username and password."
   ]
  },
  {
   "cell_type": "code",
   "execution_count": null,
   "id": "8NVXuwyozUi7",
   "metadata": {
    "ExecuteTime": {
     "end_time": "2024-01-01T19:47:50.381706500Z",
     "start_time": "2024-01-01T19:47:49.201122400Z"
    },
    "id": "8NVXuwyozUi7"
   },
   "outputs": [],
   "source": [
    "\n",
    "import hyperspace\n",
    "from getpass import getpass\n",
    "\n",
    "username    = \"USERNAME\"\n",
    "host        = \"HOST\"\n",
    "\n",
    "\n",
    "hyperspace_client = hyperspace.HyperspaceClientApi(host=host, username=username, password=getpass())\n",
    "print(hyperspace_client)\n"
   ]
  },
  {
   "cell_type": "markdown",
   "id": "1rxCqQ58kuzL",
   "metadata": {
    "id": "1rxCqQ58kuzL"
   },
   "source": [
    "We check the status before proceeding, also delete collection if exist ... "
   ]
  },
  {
   "cell_type": "code",
   "execution_count": null,
   "id": "cH_lWsLLza0n",
   "metadata": {
    "ExecuteTime": {
     "end_time": "2024-01-01T19:47:50.630929900Z",
     "start_time": "2024-01-01T19:47:50.383712Z"
    },
    "colab": {
     "base_uri": "https://localhost:8080/",
     "height": 72
    },
    "id": "cH_lWsLLza0n",
    "outputId": "fb19b7c2-e567-411f-dff9-43f9adc6d13a"
   },
   "outputs": [],
   "source": [
    "collections_info = hyperspace_client.collections_info()\n",
    "sfunc.pprint(collections_info)\n",
    "if 'CrimesInChicago' in collections_info['collections'] :\n",
    "    collections_info = hyperspace_client.delete_collection('CrimesInChicago')\n",
    "    collections_info = hyperspace_client.collections_info()\n",
    "    sfunc.pprint(collections_info)\n",
    "\n"
   ]
  },
  {
   "cell_type": "code",
   "execution_count": null,
   "id": "d4a2896f",
   "metadata": {},
   "outputs": [],
   "source": []
  },
  {
   "cell_type": "code",
   "execution_count": null,
   "id": "d74ea547",
   "metadata": {},
   "outputs": [],
   "source": [
    "import time\n",
    "t_start = time.time()\n",
    "print(t_start)\n",
    "t_start = time.time()\n",
    "print(t_start)\n",
    "t_start = time.time_ns()\n",
    "print(str(t_start))\n",
    "\n",
    "start = time.time_ns()\n",
    "\n",
    "for i in range(1000) :\n",
    "    time.sleep(0.005)\n",
    "    # t_start = time.time_ns()\n",
    "    # print(str(t_start))\n",
    "\n",
    "stop = time.time_ns()\n",
    "    \n",
    "q_count = i+1\n",
    "delta = stop - start\n",
    "print(\"fired %5d queries in delta  %8.3f seconds, qps = %8.3f\" % ( q_count,  delta*1e-9, q_count/(delta*1e-9)) )\n",
    "    "
   ]
  },
  {
   "cell_type": "markdown",
   "id": "HXmdh3YGVfQV",
   "metadata": {
    "id": "HXmdh3YGVfQV"
   },
   "source": [
    "## 3. Create a Data Schema File\n",
    "\n",
    "Similarly to other search databases, Hyper-Space database requires a configuration file that outlines the data schema. Here, we create a config file that corresponds to the fields of the given dataset.\n",
    "\n",
    "For vector fields, we also provide the index type to be used, and the metric. . Current options for index include \"**brute_force**\", \"**hnsw**\", \"**ivf**\", and \"**bin_ivf**\" for binary vectors, and \"**IP**\" (inner product) as a metric for floating point vectors and \"**Hamming**\" ([hamming distance](https://en.wikipedia.org/wiki/Hamming_distance)) for binary vectors.\n",
    "Note that the key 'low_cardinality' enables faster search for low cardinality fields."
   ]
  },
  {
   "cell_type": "code",
   "execution_count": null,
   "id": "wEPB1q3mno6H",
   "metadata": {
    "ExecuteTime": {
     "end_time": "2024-01-01T19:47:50.673577300Z",
     "start_time": "2024-01-01T19:47:50.635904500Z"
    },
    "id": "wEPB1q3mno6H"
   },
   "outputs": [],
   "source": [
    "\n",
    "\n",
    "config = {\n",
    "  \"configuration\": {\n",
    "    \"ID\": {\n",
    "      \"type\": \"keyword\",\n",
    "      \"id\": True\n",
    "    },\n",
    "    \"Case Number\": {\n",
    "      \"type\": \"keyword\"\n",
    "    },\n",
    "    \"Date\": {\n",
    "      \"type\": \"date\",\n",
    "      \"format\": \"MM/dd/yyyy hh:mm:ss a\"\n",
    "    },\n",
    "    \"Block\": {\n",
    "      \"type\": \"keyword\"\n",
    "    },\n",
    "    \"IUCR\": {\n",
    "      \"type\": \"keyword\"\n",
    "    },\n",
    "    \"Primary Type\": {\n",
    "      \"type\": \"keyword\"\n",
    "    },\n",
    "    \"Description\": {\n",
    "      \"type\": \"keyword\"\n",
    "    },\n",
    "    \"Location Description\": {\n",
    "      \"type\": \"keyword\"\n",
    "    },\n",
    "    \"Arrest\": {\n",
    "      \"type\": \"boolean\"\n",
    "    },\n",
    "    \"Domestic\": {\n",
    "      \"type\": \"boolean\"\n",
    "    },\n",
    "    \"Beat\": {\n",
    "      \"type\": \"integer\"\n",
    "    },\n",
    "    \"District\": {\n",
    "      \"type\": \"integer\"\n",
    "    },\n",
    "    \"Ward\": {\n",
    "      \"type\": \"integer\"\n",
    "    },\n",
    "    \"Community Area\": {\n",
    "      \"type\": \"integer\"\n",
    "    },\n",
    "    \"FBI Code\": {\n",
    "      \"type\": \"keyword\"\n",
    "    },\n",
    "    \"X Coordinate\": {\n",
    "      \"type\": \"integer\"\n",
    "    },\n",
    "    \"Y Coordinate\": {\n",
    "      \"type\": \"integer\"\n",
    "    },\n",
    "    \"Year\": {\n",
    "      \"type\": \"integer\"\n",
    "    },\n",
    "    \"Updated On\": {\n",
    "      \"type\": \"date\",\n",
    "      \"format\": \"MM/dd/yyyy hh:mm:ss a\"\n",
    "    },\n",
    "    \"Latitude\": {\n",
    "      \"type\": \"float\"\n",
    "    },\n",
    "    \"Longitude\": {\n",
    "      \"type\": \"float\"\n",
    "    },\n",
    "    \"Location\": {\n",
    "      \"type\": \"geo_point\",\n",
    "      \"struct_type\": \"list\"\n",
    "    }\n",
    "  }\n",
    "}\n",
    "\n",
    "with open('crime-config.json', 'w') as f:\n",
    "    f.write(sfunc.json.dumps(config, indent=2))\n",
    "\n"
   ]
  },
  {
   "cell_type": "markdown",
   "id": "7RTDkUsr3ead",
   "metadata": {
    "id": "7RTDkUsr3ead"
   },
   "source": [
    "## 4. Create Collection\n",
    "The Hyerspace engine stores data in Collections, where each collection commonly hosts data of similar context, etc. Each search is then performed within a collection. We create a collection using the command \"**create_collection**(schema_filename, collection_name)\"."
   ]
  },
  {
   "cell_type": "code",
   "execution_count": null,
   "id": "nAzO0OH7nt6-",
   "metadata": {
    "ExecuteTime": {
     "end_time": "2024-01-01T19:47:50.803106500Z",
     "start_time": "2024-01-01T19:47:50.647905300Z"
    },
    "colab": {
     "base_uri": "https://localhost:8080/"
    },
    "id": "nAzO0OH7nt6-",
    "outputId": "3ff5f47e-74d2-445e-c4bb-d327d6a328ed"
   },
   "outputs": [],
   "source": [
    "collection_name = 'CrimesInChicago'\n",
    "\n",
    "if collection_name not in hyperspace_client.collections_info()[\"collections\"]:\n",
    "  hyperspace_client.create_collection('crime-config.json', collection_name)\n",
    "\n",
    "hyperspace_client.collections_info()\n"
   ]
  },
  {
   "cell_type": "markdown",
   "id": "lUpgHD2VWFXd",
   "metadata": {
    "id": "lUpgHD2VWFXd"
   },
   "source": [
    "# 5. Ingest data\n",
    "\n",
    "In the next step we ingest the dataset in batches of 500 documents. This number can be controlled by the user, and in particular, can be increased in order improve ingestion time. We add batches of data using the command **add_batch**(batch, collection_name)."
   ]
  },
  {
   "cell_type": "code",
   "execution_count": null,
   "id": "qPTZ0a1-mPj2",
   "metadata": {
    "ExecuteTime": {
     "end_time": "2024-01-01T19:48:23.707676100Z",
     "start_time": "2024-01-01T19:47:50.807039800Z"
    },
    "colab": {
     "base_uri": "https://localhost:8080/"
    },
    "id": "qPTZ0a1-mPj2",
    "outputId": "ab6f82a9-d5d3-43fa-e660-e8a4420eea1d",
    "scrolled": false
   },
   "outputs": [],
   "source": [
    "dataset_path = '100k-crimes-dataset-processed_data.json'\n",
    "\n",
    "\n",
    "hyperspace_client.clear_collection(collection_name)\n",
    "\n",
    "sfunc.batch_ingest_data(hyperspace_client, dataset_path, 0 , config, collection_name) \n",
    "\n",
    "hyperspace_client.commit(collection_name)\n"
   ]
  },
  {
   "cell_type": "markdown",
   "id": "8lRgTyKwWJ84",
   "metadata": {
    "id": "8lRgTyKwWJ84"
   },
   "source": [
    "### Check collection size after ingestion"
   ]
  },
  {
   "cell_type": "code",
   "execution_count": null,
   "id": "9edaa4a5",
   "metadata": {},
   "outputs": [],
   "source": [
    "print(hyperspace_client.collections_info())"
   ]
  },
  {
   "cell_type": "markdown",
   "id": "431d2480",
   "metadata": {
    "id": "8lRgTyKwWJ84"
   },
   "source": [
    "## 6. Define Logic and Run a Query\n",
    "We build a search query using Hyper-space. we first select one document from the datset, document \"10224965\", lets take a look in this document \n"
   ]
  },
  {
   "cell_type": "code",
   "execution_count": null,
   "id": "0YdFBOCsOJka",
   "metadata": {
    "ExecuteTime": {
     "end_time": "2024-01-01T19:48:23.799088500Z",
     "start_time": "2024-01-01T19:48:23.709531200Z"
    },
    "colab": {
     "base_uri": "https://localhost:8080/"
    },
    "id": "0YdFBOCsOJka",
    "outputId": "05a6e4cb-c80f-4d16-fc1f-c81e7ce4a0b9",
    "scrolled": false
   },
   "outputs": [],
   "source": [
    "\n",
    "input_vector = hyperspace_client.get_document(collection_name, \"1022\")\n",
    "sfunc.pprint(input_vector)"
   ]
  },
  {
   "cell_type": "markdown",
   "id": "ozeEfW7b6g9Z",
   "metadata": {
    "id": "ozeEfW7b6g9Z"
   },
   "source": [
    "We will use a very simple logic, which matchs the description and location, and make sure case number doesn't match so we won't get back the same result.\n",
    "\n",
    "We use the following logic:\n",
    "\n",
    "\n",
    "*   document/case will match if it has the same \"Description\" and not the same \"Case Number\"\n",
    "*   document/case will also match if it happended in the same \"Block\"\n",
    "*   we boost the score by 5 points if geo \"Location\" is close (40 something)\n",
    "*   we reduce the score by 5 points if the \"District\" is the same and case date if 40 to 100 days before the query case date\n",
    "\n",
    "Score function is listed next :\n",
    "\n"
   ]
  },
  {
   "cell_type": "code",
   "execution_count": null,
   "id": "GxF-npmSzv8w",
   "metadata": {
    "ExecuteTime": {
     "end_time": "2024-01-01T19:48:24.919943600Z",
     "start_time": "2024-01-01T19:48:23.804052800Z"
    },
    "id": "GxF-npmSzv8w"
   },
   "outputs": [],
   "source": [
    "\n",
    "def similarity_score(Q, V):\n",
    "    score = 0.0\n",
    "\n",
    "    if match('Description') and not match('Case Number'):\n",
    "        score = rarity_max('Description')\n",
    "        if geo_dist_match('Location',40):\n",
    "            score += 5\n",
    "        if match('District') and window_match('Date', 100, 40):\n",
    "            score -= 5\n",
    "    if match('Block'):\n",
    "        score += rarity_max('Block')\n",
    "    return score\n",
    "\n",
    "# this is still not working\n",
    "# hyperspace_client.set_function(similarity_score, collection_name)\n",
    "\n",
    "sfunc.set_score_function(hyperspace_client, similarity_score, collection_name, score_function_name='similarity_score')"
   ]
  },
  {
   "cell_type": "markdown",
   "id": "9278f9a1",
   "metadata": {},
   "source": [
    "### Next, we fire the query "
   ]
  },
  {
   "cell_type": "code",
   "execution_count": null,
   "id": "5ff98e9d",
   "metadata": {
    "ExecuteTime": {
     "end_time": "2024-01-01T19:48:27.188125100Z",
     "start_time": "2024-01-01T19:48:24.923896Z"
    },
    "colab": {
     "base_uri": "https://localhost:8080/"
    },
    "id": "5ff98e9d",
    "outputId": "b9dae0cd-a275-4938-d3df-66ead42473b3"
   },
   "outputs": [],
   "source": [
    "results = hyperspace_client.search({'params': input_vector},\n",
    "                                        size=30,\n",
    "                                        function_name='similarity_score',\n",
    "                                        collection_name=collection_name)\n",
    "\n",
    "sfunc.print_results( results, collection_name )\n"
   ]
  },
  {
   "cell_type": "markdown",
   "id": "EOdmFy7WDBGx",
   "metadata": {
    "id": "EOdmFy7WDBGx"
   },
   "source": [
    "We display the top 30 results. Note that results with similar score are ordered arbitrarily, so more complex logic will likely result in better outcome. \n",
    "lets take a look in the content of top matching document, we can see the match in \"Description\", no match in \"Block\" and \"District\" and match in \"Location\""
   ]
  },
  {
   "cell_type": "code",
   "execution_count": null,
   "id": "8494e3a0",
   "metadata": {
    "ExecuteTime": {
     "end_time": "2024-01-01T19:48:23.799088500Z",
     "start_time": "2024-01-01T19:48:23.709531200Z"
    },
    "colab": {
     "base_uri": "https://localhost:8080/"
    },
    "id": "0YdFBOCsOJka",
    "outputId": "05a6e4cb-c80f-4d16-fc1f-c81e7ce4a0b9",
    "scrolled": false
   },
   "outputs": [],
   "source": [
    "\n",
    "input_vector = hyperspace_client.get_document(collection_name, \"1022\")\n",
    "sfunc.pprint(input_vector)"
   ]
  },
  {
   "cell_type": "markdown",
   "id": "97f08c7c",
   "metadata": {},
   "source": [
    "### Score function with some aggregation"
   ]
  },
  {
   "cell_type": "markdown",
   "id": "33153809",
   "metadata": {},
   "source": [
    "we add count aggregation to get the number of cases with \"Description\" match and separate count for the number of cases with additional geo match."
   ]
  },
  {
   "cell_type": "code",
   "execution_count": null,
   "id": "T3zQ_oWDiOlX",
   "metadata": {
    "ExecuteTime": {
     "end_time": "2024-01-01T19:48:28.309475700Z",
     "start_time": "2024-01-01T19:48:27.190122300Z"
    },
    "id": "T3zQ_oWDiOlX"
   },
   "outputs": [],
   "source": [
    "def similarity_score_aggregations(Q, V):\n",
    "    score = 0.0\n",
    "\n",
    "    if match('Description') and not match('Case Number'):\n",
    "        aggregate_count(\"count of cases\")\n",
    "\n",
    "        score = rarity_max('Description')\n",
    "        if geo_dist_match('Location',40):\n",
    "            aggregate_count(\"count of cases in nearby districts\")\n",
    "            score += 5\n",
    "        if match('District') and window_match('Date', 100, 40):\n",
    "            score -= 5\n",
    "    if match('Block'):\n",
    "        score += rarity_max('Block')\n",
    "    return score\n",
    "\n",
    "sfunc.set_score_function(hyperspace_client, similarity_score_aggregations, collection_name, score_function_name='similarity_score_aggregations')\n"
   ]
  },
  {
   "cell_type": "markdown",
   "id": "986987d6",
   "metadata": {},
   "source": [
    "### Next, we fire the query "
   ]
  },
  {
   "cell_type": "code",
   "execution_count": null,
   "id": "TwAlkz09iRtm",
   "metadata": {
    "ExecuteTime": {
     "end_time": "2024-01-01T19:48:30.564849400Z",
     "start_time": "2024-01-01T19:48:28.313459800Z"
    },
    "colab": {
     "base_uri": "https://localhost:8080/"
    },
    "id": "TwAlkz09iRtm",
    "outputId": "4cea4ba6-0db8-4835-9fec-5f995cd0e000"
   },
   "outputs": [],
   "source": [
    "results = hyperspace_client.search({'params': input_vector},\n",
    "                                        size=30,\n",
    "                                        function_name='similarity_score_aggregations',\n",
    "                                        collection_name=collection_name)\n",
    "\n",
    "        \n",
    "sfunc.print_results( results, collection_name )\n"
   ]
  },
  {
   "cell_type": "markdown",
   "id": "ac3f4f25",
   "metadata": {},
   "source": [
    "we can see the aggregation section in the results where the two counts are listed\n",
    "\n"
   ]
  },
  {
   "cell_type": "markdown",
   "id": "mltHy5eKiDmu",
   "metadata": {
    "id": "mltHy5eKiDmu"
   },
   "source": [
    "For more information, visit us at [Hyperspace](https://www.hyper-space.io/)"
   ]
  },
  {
   "cell_type": "code",
   "execution_count": null,
   "id": "77da1872",
   "metadata": {},
   "outputs": [],
   "source": [
    "sfunc.pprint(hyperspace_client.collections_info())"
   ]
  },
  {
   "cell_type": "markdown",
   "id": "b5401bae",
   "metadata": {},
   "source": [
    "# Performance - stream query firing\n",
    "\n",
    "This is a bonus section, here we experiment streaming queries back to back, we fire a total of 1000 queries by 50 threads, and we measure total qps (query per second), latency as seen by the server, latency as seen by the client (much higher), total fire time measured via query start time and query end time. Have a look, very interesting.... "
   ]
  },
  {
   "cell_type": "code",
   "execution_count": null,
   "id": "810ae291",
   "metadata": {
    "scrolled": false
   },
   "outputs": [],
   "source": [
    "import threading\n",
    "import time\n",
    "import random\n",
    "from queue import Queue\n",
    "import matplotlib.pyplot as plt\n",
    "\n",
    "\n",
    "# Number of times to call the search function per second\n",
    "Total_Q   = 1000\n",
    "N_threads = 50\n",
    "T_latency = 0.02 # for dummie query\n",
    "\n",
    "Q_per_thread = int(Total_Q / N_threads)\n",
    "\n",
    "\n",
    "# Function that simulates the search operation (replace with your actual search function)\n",
    "def dummie_search() :\n",
    "    time.sleep(random.uniform(T_latency, 2*T_latency))  # Simulate the search taking between 1/N and 2/N seconds\n",
    "    return \"Search result\"\n",
    "\n",
    "# Function that simulates the search operation (replace with your actual search function)\n",
    "def search():\n",
    "    results = hyperspace_client.search({'params': input_vector},\n",
    "                                        size=30,\n",
    "                                        function_name='similarity_score',\n",
    "                                        collection_name=collection_name)\n",
    "    return results\n",
    "\n",
    "\n",
    "# Function to execute the search function N times per second\n",
    "def execute_search(results):\n",
    "    # print(\"thread_id \", threading.get_ident())\n",
    "    thread_id = threading.get_ident()\n",
    "    stat = []\n",
    "    for i in range(Q_per_thread):\n",
    "        start_time = time.time_ns()  # Capture the start time in nanoseconds\n",
    "        result = search()  # Call the search function\n",
    "        end_time = time.time_ns()  # Capture the end time in nanoseconds\n",
    "        completion_time = end_time - start_time\n",
    "        if 0:\n",
    "            print(\"thread_id %6d took_ms : %s start %.3f sec, end %.3f sec, latency %7.3f ms\" % \n",
    "                  (thread_id,  result[\"took_ms\"], start_time*1e-9, end_time*1e-9, completion_time*1e-6))\n",
    "        stat.append([thread_id, start_time*1e-9, end_time*1e-9, completion_time*1e-6, result[\"took_ms\"]] )\n",
    "\n",
    "    # print(\"stat \", stat)\n",
    "    for tmp_stat in stat :\n",
    "        results.put(tmp_stat)\n",
    "\n",
    "    \n",
    "# Create a queue to store the results and completion times\n",
    "result_queue = Queue()\n",
    "\n",
    "# Create a pool of threads\n",
    "threads = []\n",
    "for thread_id in range(N_threads):\n",
    "    thread = threading.Thread(target=execute_search, args=[result_queue])\n",
    "    # thread = threading.Thread(target=execute_search)\n",
    "    threads.append(thread)\n",
    "\n",
    "    \n",
    "start = time.time_ns()\n",
    "\n",
    "    \n",
    "# Start the threads\n",
    "for thread in threads:\n",
    "    thread.start()\n",
    "\n",
    "# Wait for all threads to finish\n",
    "for thread in threads:\n",
    "    thread.join()\n",
    "\n",
    "\n",
    "stop = time.time_ns()\n",
    "\n",
    "# Collect the results and completion times from the queues\n",
    "all_results = []\n",
    "while not result_queue.empty():\n",
    "    all_results.append(result_queue.get())\n",
    "\n",
    "\n",
    "# print(\"all_results \", all_results)\n",
    "\n",
    "#    thread = threading.Thread(target=execute_search, args=(result_queue, completion_time_queue))\n",
    "\n",
    "q_count = Total_Q\n",
    "q_count = len(all_results)\n",
    "\n",
    "delta = stop - start\n",
    "print(\"\\n \\033[1m\")\n",
    "print(\"Fired %8d queries in interval of :  %8.3f seconds, qps = %8.3f\" % ( q_count,  delta*1e-9, q_count/(delta*1e-9)) )\n",
    "\n",
    "    \n",
    "    \n",
    "\n",
    "# Extract the kth element from each inner list\n",
    "q_start_times = [inner_list[1] for inner_list in all_results]\n",
    "q_end_times   = [inner_list[2] for inner_list in all_results]\n",
    "q_client_seen_latency   = [inner_list[3] for inner_list in all_results]\n",
    "q_took_ms     = [inner_list[4] for inner_list in all_results]\n",
    "total_took_ms = sum(q_took_ms)\n",
    "\n",
    "print(\"Total client latency                  :  %8.3f seconds\"  % ( total_took_ms/1000))\n",
    "print('\\033[0m \\n')\n",
    "\n",
    "# Sort the kth_elements list\n",
    "sorted_q_start_times = sorted(q_start_times)\n",
    "sorted_q_end_times   = sorted(q_end_times)\n",
    "\n",
    "sorted_q_start_times_zero = [tmp_seconds - sorted_q_start_times[0] for tmp_seconds in  sorted_q_start_times]\n",
    "sorted_q_end_times_zero   = [tmp_seconds - sorted_q_end_times[0] for tmp_seconds in  sorted_q_end_times]\n",
    "\n",
    "sorted_q_took_ms = sorted(q_took_ms)\n",
    "\n",
    "\n",
    "# Create an x-axis for the scatter plot (optional)\n",
    "x_values = list(range(len(sorted_q_start_times)))\n",
    "\n",
    "\n",
    "# Create a new figure\n",
    "plt.figure(figsize=(10, 50))\n",
    "plt.subplot(6, 1, 1)  # 2 rows, 1 column, first subplot\n",
    "\n",
    "# Plot the sorted elements as a scatter plot\n",
    "plt.scatter( sorted_q_start_times_zero, x_values)\n",
    "\n",
    "# Optionally, add labels and title to the plot\n",
    "plt.ylabel(\"Index\")\n",
    "# plt.xlabel(\"query start time (sec)\")\n",
    "plt.title(f\"query id vs start time (seconds)\")\n",
    "\n",
    "plt.subplot(6, 1, 2)  # 2 rows, 1 column, first subplot\n",
    "\n",
    "# Plot the sorted elements as a scatter plot\n",
    "plt.scatter( sorted_q_end_times_zero, x_values)\n",
    "\n",
    "# Optionally, add labels and title to the plot\n",
    "plt.ylabel(\"Index\")\n",
    "# plt.xlabel(\"query start time (sec)\")\n",
    "plt.title(f\"query id vs end time (seconds)\")\n",
    "\n",
    "\n",
    "###########################################################\n",
    "###########################################################\n",
    "###########################################################\n",
    "# 2 views of took_ms, latency seen by search master\n",
    "###########################################################\n",
    "###########################################################\n",
    "###########################################################\n",
    "\n",
    "plt.subplot(6, 1, 3)  # 2 rows, 1 column, first subplot\n",
    "\n",
    "\n",
    "plt.hist(sorted_q_took_ms, bins=50, color='skyblue', edgecolor='black', alpha=0.7)\n",
    "plt.title(f\"query latency (ms) histogram\")\n",
    "plt.ylabel(\"Count\")\n",
    "\n",
    "\n",
    "plt.subplot(6, 1, 4)  # 2 rows, 1 column, first subplot\n",
    "\n",
    "\n",
    "###########################################################\n",
    "###########################################################\n",
    "###########################################################\n",
    "\n",
    "# should come from external json file\n",
    "input_dict = {\n",
    "    \"fig_title\"    : \"query latency (ms) percentile\",\n",
    "    \"x_axis_label\" : \"\",\n",
    "    \"y_axis_label\" : \"latency in ms\",\n",
    "    \"ylim\"         : [0,60], \n",
    "    \"x_ticks\"      : [0.0, 0.5, 0.75, 0.95, 0.99, 0.999],\n",
    "\n",
    "    \"samples\" : [\n",
    "    {\n",
    "    \"legend\" : \"sample 1 hyperspace\",\n",
    "    \"data\"   : q_took_ms\n",
    "    }\n",
    "    ]\n",
    "}\n",
    "\n",
    "###########################################################\n",
    "###########################################################\n",
    "###########################################################\n",
    "\n",
    "\n",
    "sperc.do_percentile(input_dict)\n",
    "\n",
    "###########################################################\n",
    "###########################################################\n",
    "###########################################################\n",
    "# 2 views of client_latency, latency seen by client\n",
    "###########################################################\n",
    "###########################################################\n",
    "###########################################################\n",
    "\n",
    "plt.subplot(6, 1, 5)  # 2 rows, 1 column, first subplot\n",
    "\n",
    "\n",
    "plt.hist(q_client_seen_latency, bins=50, color='skyblue', edgecolor='black', alpha=0.7)\n",
    "plt.title(f\"client latency (ms) histogram\")\n",
    "plt.ylabel(\"Count\")\n",
    "\n",
    "\n",
    "plt.subplot(6, 1, 6)  # 2 rows, 1 column, first subplot\n",
    "\n",
    "\n",
    "###########################################################\n",
    "###########################################################\n",
    "###########################################################\n",
    "\n",
    "# should come from external json file\n",
    "input_dict = {\n",
    "    \"fig_title\"    : \"client latency (ms) percentile\",\n",
    "    \"x_axis_label\" : \"\",\n",
    "    \"y_axis_label\" : \"latency in ms\",\n",
    "    \"ylim\"         : [0,300], \n",
    "    \"x_ticks\"      : [0.0, 0.5, 0.75, 0.95, 0.99, 0.999],\n",
    "\n",
    "    \"samples\" : [\n",
    "    {\n",
    "    \"legend\" : \"sample 1 hyperspace\",\n",
    "    \"data\"   : q_client_seen_latency\n",
    "    }\n",
    "    ]\n",
    "}\n",
    "\n",
    "###########################################################\n",
    "###########################################################\n",
    "###########################################################\n",
    "\n",
    "\n",
    "sperc.do_percentile(input_dict)\n",
    "\n",
    "\n",
    "\n",
    "# Show the plot\n",
    "plt.show()\n",
    "    "
   ]
  },
  {
   "cell_type": "code",
   "execution_count": null,
   "id": "d9f4129f",
   "metadata": {},
   "outputs": [],
   "source": []
  }
 ],
 "metadata": {
  "colab": {
   "provenance": []
  },
  "kernelspec": {
   "display_name": "Python 3 (ipykernel)",
   "language": "python",
   "name": "python3"
  },
  "language_info": {
   "codemirror_mode": {
    "name": "ipython",
    "version": 3
   },
   "file_extension": ".py",
   "mimetype": "text/x-python",
   "name": "python",
   "nbconvert_exporter": "python",
   "pygments_lexer": "ipython3",
   "version": "3.9.6"
  }
 },
 "nbformat": 4,
 "nbformat_minor": 5
}
